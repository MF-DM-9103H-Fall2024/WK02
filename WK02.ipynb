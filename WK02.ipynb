{
  "cells": [
    {
      "cell_type": "markdown",
      "metadata": {
        "id": "Ty-DVrJlaN1T"
      },
      "source": [
        "# Week 02"
      ]
    },
    {
      "cell_type": "markdown",
      "metadata": {},
      "source": [
        "## Citing open-source / found code\n",
        "\n",
        "Sometimes the citation will be part of the code. Whenever you use the `import` command, I'll know the code is coming form somewhere else and it's easy to figure out where."
      ]
    },
    {
      "cell_type": "code",
      "execution_count": null,
      "metadata": {},
      "outputs": [],
      "source": [
        "import matplotlib.pyplot as plt\n",
        "import numpy as np\n",
        "\n",
        "plt.plot(np.sin(np.arange(0, 4 * np.pi, .1)))\n",
        "plt.plot(np.cos(np.arange(0, 4 * np.pi, .1)), c='r')\n",
        "plt.show()"
      ]
    },
    {
      "cell_type": "markdown",
      "metadata": {},
      "source": [
        "Other times the citation will have to be a little more explicit.\n",
        "\n",
        "A link to the original code, repo, or stackoverflow answer is enough."
      ]
    },
    {
      "cell_type": "code",
      "execution_count": null,
      "metadata": {},
      "outputs": [],
      "source": [
        "import cv2\n",
        "from scipy import fftpack\n",
        "from imagehash import ImageHash\n",
        "\n",
        "# Function for computing the perceptual hash of an image\n",
        "# Based on code from the vframe project:\n",
        "#   https://github.com/vframeio/vframe/blob/master/src/vframe/utils/im_utils.py#L37-L48\n",
        "# which is based on code from the imagehash library:\n",
        "#   https://github.com/JohannesBuchner/imagehash/blob/master/imagehash.py#L197\n",
        "\n",
        "def phash(im, hash_size=8, highfreq_factor=4):\n",
        "  wh = hash_size * highfreq_factor\n",
        "  im = cv2.resize(im, (wh, wh), interpolation=cv2.INTER_NEAREST)\n",
        "  if len(im.shape) > 2 and im.shape[2] > 1:\n",
        "    im = cv2.cvtColor(im, cv2.COLOR_BGR2GRAY)\n",
        "  mdct = fftpack.dct(fftpack.dct(im, axis=0), axis=1)\n",
        "  dctlowfreq = mdct[:hash_size, :hash_size]\n",
        "  med = np.median(dctlowfreq)\n",
        "  diff = dctlowfreq > med\n",
        "  return ImageHash(diff)"
      ]
    },
    {
      "cell_type": "markdown",
      "metadata": {
        "id": "s-e8uvrIca09"
      },
      "source": [
        "Ok, back to Week 02\n",
        "\n",
        "## Setup\n",
        "\n",
        "Let's import some helper functions and libraries"
      ]
    },
    {
      "cell_type": "code",
      "execution_count": 6,
      "metadata": {
        "id": "uHIQDMJ-WTei"
      },
      "outputs": [],
      "source": [
        "import random"
      ]
    },
    {
      "cell_type": "markdown",
      "metadata": {},
      "source": [
        "## Ranges\n",
        "\n",
        "<img src=\"./imgs/range.jpg\" width=\"500px\" />\n",
        "\n",
        "Range of integers between 0 and 10:"
      ]
    },
    {
      "cell_type": "code",
      "execution_count": 8,
      "metadata": {},
      "outputs": [
        {
          "data": {
            "text/plain": [
              "[0, 1, 2, 3, 4, 5, 6, 7, 8, 9]"
            ]
          },
          "execution_count": 8,
          "metadata": {},
          "output_type": "execute_result"
        }
      ],
      "source": [
        "range(0, 10)\n",
        "\n",
        "# TODO: take a look at the range values\n",
        "list(range(0, 10))"
      ]
    },
    {
      "cell_type": "markdown",
      "metadata": {},
      "source": [
        "Range of integers between 0 and 100 skipping by 10s:"
      ]
    },
    {
      "cell_type": "code",
      "execution_count": 9,
      "metadata": {},
      "outputs": [
        {
          "data": {
            "text/plain": [
              "[0, 10, 20, 30, 40, 50, 60, 70, 80, 90]"
            ]
          },
          "execution_count": 9,
          "metadata": {},
          "output_type": "execute_result"
        }
      ],
      "source": [
        "range(0, 100, 10)\n",
        "\n",
        "# TODO: take a look at the range values\n",
        "list(range(0, 100, 10))"
      ]
    },
    {
      "cell_type": "markdown",
      "metadata": {},
      "source": [
        "## Lists\n",
        "### Creating lists from sequences of numbers\n",
        "#### Create a list with all the numbers between 0 and 1000 that end in 91"
      ]
    },
    {
      "cell_type": "code",
      "execution_count": 31,
      "metadata": {},
      "outputs": [
        {
          "name": "stdout",
          "output_type": "stream",
          "text": [
            "[91, 191, 291, 391, 491, 591, 691, 791, 891, 991]\n",
            "[91, 191, 291, 391, 491, 591, 691, 791, 891, 991]\n"
          ]
        },
        {
          "data": {
            "text/plain": [
              "[91, 191, 291, 391, 491, 591, 691, 791, 891, 991]"
            ]
          },
          "execution_count": 31,
          "metadata": {},
          "output_type": "execute_result"
        }
      ],
      "source": [
        "list_x91 = []\n",
        "\n",
        "# TODO: for loop\n",
        "for i in range(91, 1000, 100):\n",
        "    list_x91.append(i) \n",
        "print(list_x91)\n",
        "\n",
        "# TODO: comprehension\n",
        "list_x91 = [i for i in range(91, 1000, 100)]\n",
        "print(list_x91)\n",
        "\n",
        "# TODO: casting\n",
        "list_x91 = list(range(91, 1000, 100))\n",
        "list_x91"
      ]
    },
    {
      "cell_type": "markdown",
      "metadata": {},
      "source": [
        "### List indexing\n",
        "\n",
        "Indexing from the front is normal:"
      ]
    },
    {
      "cell_type": "code",
      "execution_count": 33,
      "metadata": {},
      "outputs": [
        {
          "data": {
            "text/plain": [
              "([91, 191, 291, 391, 491, 591, 691, 791, 891, 991], 91, 291, 891)"
            ]
          },
          "execution_count": 33,
          "metadata": {},
          "output_type": "execute_result"
        }
      ],
      "source": [
        "list_x91, list_x91[0], list_x91[2], list_x91[8]"
      ]
    },
    {
      "cell_type": "markdown",
      "metadata": {},
      "source": [
        "But, Python also lets us index from the back with negative numbers:"
      ]
    },
    {
      "cell_type": "code",
      "execution_count": 34,
      "metadata": {},
      "outputs": [
        {
          "data": {
            "text/plain": [
              "(991, 891, 291)"
            ]
          },
          "execution_count": 34,
          "metadata": {},
          "output_type": "execute_result"
        }
      ],
      "source": [
        "list_x91[-1], list_x91[-2], list_x91[-8]"
      ]
    },
    {
      "cell_type": "markdown",
      "metadata": {},
      "source": [
        "### Create a list with 100 number 2's"
      ]
    },
    {
      "cell_type": "code",
      "execution_count": 44,
      "metadata": {},
      "outputs": [
        {
          "data": {
            "text/plain": [
              "[2,\n",
              " 2,\n",
              " 2,\n",
              " 2,\n",
              " 2,\n",
              " 2,\n",
              " 2,\n",
              " 2,\n",
              " 2,\n",
              " 2,\n",
              " 2,\n",
              " 2,\n",
              " 2,\n",
              " 2,\n",
              " 2,\n",
              " 2,\n",
              " 2,\n",
              " 2,\n",
              " 2,\n",
              " 2,\n",
              " 2,\n",
              " 2,\n",
              " 2,\n",
              " 2,\n",
              " 2,\n",
              " 2,\n",
              " 2,\n",
              " 2,\n",
              " 2,\n",
              " 2,\n",
              " 2,\n",
              " 2,\n",
              " 2,\n",
              " 2,\n",
              " 2,\n",
              " 2,\n",
              " 2,\n",
              " 2,\n",
              " 2,\n",
              " 2,\n",
              " 2,\n",
              " 2,\n",
              " 2,\n",
              " 2,\n",
              " 2,\n",
              " 2,\n",
              " 2,\n",
              " 2,\n",
              " 2,\n",
              " 2,\n",
              " 2,\n",
              " 2,\n",
              " 2,\n",
              " 2,\n",
              " 2,\n",
              " 2,\n",
              " 2,\n",
              " 2,\n",
              " 2,\n",
              " 2,\n",
              " 2,\n",
              " 2,\n",
              " 2,\n",
              " 2,\n",
              " 2,\n",
              " 2,\n",
              " 2,\n",
              " 2,\n",
              " 2,\n",
              " 2,\n",
              " 2,\n",
              " 2,\n",
              " 2,\n",
              " 2,\n",
              " 2,\n",
              " 2,\n",
              " 2,\n",
              " 2,\n",
              " 2,\n",
              " 2,\n",
              " 2,\n",
              " 2,\n",
              " 2,\n",
              " 2,\n",
              " 2,\n",
              " 2,\n",
              " 2,\n",
              " 2,\n",
              " 2,\n",
              " 2,\n",
              " 2,\n",
              " 2,\n",
              " 2,\n",
              " 2,\n",
              " 2,\n",
              " 2,\n",
              " 2,\n",
              " 2,\n",
              " 2,\n",
              " 2]"
            ]
          },
          "execution_count": 44,
          "metadata": {},
          "output_type": "execute_result"
        }
      ],
      "source": [
        "list_100_2 = []\n",
        "# TODO\n",
        "list_100_2 = 100 * [2]\n",
        "list_100_2"
      ]
    },
    {
      "cell_type": "markdown",
      "metadata": {},
      "source": [
        "### Create list of numbers between 0 and 100 that are divisible by 7:"
      ]
    },
    {
      "cell_type": "code",
      "execution_count": 61,
      "metadata": {},
      "outputs": [
        {
          "name": "stdout",
          "output_type": "stream",
          "text": [
            "[0, 7, 14, 21, 28, 35, 42, 49, 56, 63, 70, 77, 84, 91, 98]\n"
          ]
        },
        {
          "data": {
            "text/plain": [
              "[0, 7, 14, 21, 28, 35, 42, 49, 56, 63, 70, 77, 84, 91, 98]"
            ]
          },
          "execution_count": 61,
          "metadata": {},
          "output_type": "execute_result"
        }
      ],
      "source": [
        "# TODO: probably easier using comprehension\n",
        "list_100_7 = []\n",
        "for i in range(0, 100):\n",
        "    if i % 7 == 0:\n",
        "        list_100_7.append(i)\n",
        "print(list_100_7)\n",
        "list_100_7 = [i for i in range(0, 100) if i % 7 == 0]\n",
        "list_100_7"
      ]
    },
    {
      "cell_type": "markdown",
      "metadata": {},
      "source": [
        "### List functions\n",
        "\n",
        "Members of each `list` object.\n",
        "\n",
        "<img src=\"./imgs/lists00.jpg\" width=\"500px\" />"
      ]
    },
    {
      "cell_type": "markdown",
      "metadata": {
        "id": "hBs429yN9wYE"
      },
      "source": [
        "### Create a list of 10 random numbers between 0 and 100"
      ]
    },
    {
      "cell_type": "code",
      "execution_count": 72,
      "metadata": {
        "id": "36_m35zIyN2h"
      },
      "outputs": [
        {
          "data": {
            "text/plain": [
              "[96, 31, 95, 93, 94, 20, 22, 34, 78, 17]"
            ]
          },
          "execution_count": 72,
          "metadata": {},
          "output_type": "execute_result"
        }
      ],
      "source": [
        "list_of_randoms = []\n",
        "\n",
        "# TODO: with for loop and append\n",
        "for i in range(10):\n",
        "    list_of_randoms.append(random.randint(0,100))\n",
        "list_of_randoms"
      ]
    },
    {
      "cell_type": "markdown",
      "metadata": {
        "id": "7Aw4WiDS92MU"
      },
      "source": [
        "### Print the numbers and their index"
      ]
    },
    {
      "cell_type": "code",
      "execution_count": 75,
      "metadata": {
        "id": "h3ochjQlzQ4e"
      },
      "outputs": [
        {
          "name": "stdout",
          "output_type": "stream",
          "text": [
            "10\n"
          ]
        },
        {
          "data": {
            "text/plain": [
              "[(0, 96),\n",
              " (1, 31),\n",
              " (2, 95),\n",
              " (3, 93),\n",
              " (4, 94),\n",
              " (5, 20),\n",
              " (6, 22),\n",
              " (7, 34),\n",
              " (8, 78),\n",
              " (9, 17)]"
            ]
          },
          "execution_count": 75,
          "metadata": {},
          "output_type": "execute_result"
        }
      ],
      "source": [
        "# TODO: with len\n",
        "print(len(list_of_randoms))\n",
        "# TODO: with enumerate\n",
        "list(enumerate(list_of_randoms))"
      ]
    },
    {
      "cell_type": "markdown",
      "metadata": {
        "id": "5_-v7iTl955Q"
      },
      "source": [
        "### Create a list of 1000 random numbers between 0 and 1000"
      ]
    },
    {
      "cell_type": "code",
      "execution_count": 82,
      "metadata": {
        "id": "5fYaP253u7yB"
      },
      "outputs": [
        {
          "name": "stdout",
          "output_type": "stream",
          "text": [
            "1000\n"
          ]
        },
        {
          "data": {
            "text/plain": [
              "[638,\n",
              " 459,\n",
              " 766,\n",
              " 982,\n",
              " 243,\n",
              " 604,\n",
              " 789,\n",
              " 752,\n",
              " 397,\n",
              " 946,\n",
              " 511,\n",
              " 303,\n",
              " 476,\n",
              " 389,\n",
              " 840,\n",
              " 717,\n",
              " 292,\n",
              " 739,\n",
              " 574,\n",
              " 123,\n",
              " 893,\n",
              " 440,\n",
              " 164,\n",
              " 381,\n",
              " 102,\n",
              " 912,\n",
              " 289,\n",
              " 912,\n",
              " 124,\n",
              " 977,\n",
              " 1,\n",
              " 280,\n",
              " 428,\n",
              " 16,\n",
              " 78,\n",
              " 314,\n",
              " 541,\n",
              " 393,\n",
              " 883,\n",
              " 214,\n",
              " 208,\n",
              " 264,\n",
              " 849,\n",
              " 83,\n",
              " 978,\n",
              " 918,\n",
              " 100,\n",
              " 755,\n",
              " 311,\n",
              " 16,\n",
              " 857,\n",
              " 919,\n",
              " 521,\n",
              " 92,\n",
              " 594,\n",
              " 467,\n",
              " 568,\n",
              " 598,\n",
              " 485,\n",
              " 576,\n",
              " 824,\n",
              " 536,\n",
              " 537,\n",
              " 657,\n",
              " 314,\n",
              " 384,\n",
              " 901,\n",
              " 612,\n",
              " 766,\n",
              " 133,\n",
              " 826,\n",
              " 58,\n",
              " 934,\n",
              " 665,\n",
              " 496,\n",
              " 174,\n",
              " 21,\n",
              " 820,\n",
              " 113,\n",
              " 459,\n",
              " 180,\n",
              " 228,\n",
              " 305,\n",
              " 249,\n",
              " 663,\n",
              " 746,\n",
              " 68,\n",
              " 148,\n",
              " 934,\n",
              " 454,\n",
              " 342,\n",
              " 795,\n",
              " 542,\n",
              " 891,\n",
              " 967,\n",
              " 974,\n",
              " 990,\n",
              " 78,\n",
              " 200,\n",
              " 477,\n",
              " 972,\n",
              " 363,\n",
              " 774,\n",
              " 57,\n",
              " 246,\n",
              " 733,\n",
              " 923,\n",
              " 366,\n",
              " 311,\n",
              " 384,\n",
              " 656,\n",
              " 118,\n",
              " 278,\n",
              " 61,\n",
              " 300,\n",
              " 525,\n",
              " 744,\n",
              " 160,\n",
              " 633,\n",
              " 849,\n",
              " 613,\n",
              " 699,\n",
              " 348,\n",
              " 65,\n",
              " 797,\n",
              " 231,\n",
              " 490,\n",
              " 456,\n",
              " 796,\n",
              " 135,\n",
              " 350,\n",
              " 674,\n",
              " 683,\n",
              " 979,\n",
              " 369,\n",
              " 527,\n",
              " 267,\n",
              " 744,\n",
              " 556,\n",
              " 9,\n",
              " 233,\n",
              " 621,\n",
              " 357,\n",
              " 945,\n",
              " 23,\n",
              " 277,\n",
              " 183,\n",
              " 714,\n",
              " 764,\n",
              " 396,\n",
              " 760,\n",
              " 365,\n",
              " 550,\n",
              " 367,\n",
              " 122,\n",
              " 948,\n",
              " 247,\n",
              " 652,\n",
              " 740,\n",
              " 168,\n",
              " 987,\n",
              " 998,\n",
              " 847,\n",
              " 821,\n",
              " 584,\n",
              " 933,\n",
              " 266,\n",
              " 627,\n",
              " 22,\n",
              " 485,\n",
              " 854,\n",
              " 682,\n",
              " 397,\n",
              " 808,\n",
              " 672,\n",
              " 719,\n",
              " 493,\n",
              " 722,\n",
              " 360,\n",
              " 342,\n",
              " 224,\n",
              " 196,\n",
              " 110,\n",
              " 17,\n",
              " 140,\n",
              " 127,\n",
              " 0,\n",
              " 596,\n",
              " 657,\n",
              " 823,\n",
              " 482,\n",
              " 96,\n",
              " 303,\n",
              " 42,\n",
              " 96,\n",
              " 506,\n",
              " 263,\n",
              " 298,\n",
              " 45,\n",
              " 967,\n",
              " 544,\n",
              " 101,\n",
              " 771,\n",
              " 732,\n",
              " 954,\n",
              " 509,\n",
              " 980,\n",
              " 850,\n",
              " 558,\n",
              " 565,\n",
              " 930,\n",
              " 754,\n",
              " 193,\n",
              " 668,\n",
              " 397,\n",
              " 359,\n",
              " 791,\n",
              " 20,\n",
              " 289,\n",
              " 781,\n",
              " 813,\n",
              " 854,\n",
              " 440,\n",
              " 571,\n",
              " 326,\n",
              " 784,\n",
              " 226,\n",
              " 744,\n",
              " 159,\n",
              " 336,\n",
              " 973,\n",
              " 542,\n",
              " 68,\n",
              " 683,\n",
              " 436,\n",
              " 480,\n",
              " 165,\n",
              " 872,\n",
              " 787,\n",
              " 671,\n",
              " 705,\n",
              " 65,\n",
              " 461,\n",
              " 373,\n",
              " 88,\n",
              " 180,\n",
              " 663,\n",
              " 112,\n",
              " 481,\n",
              " 750,\n",
              " 216,\n",
              " 725,\n",
              " 481,\n",
              " 2,\n",
              " 708,\n",
              " 337,\n",
              " 490,\n",
              " 261,\n",
              " 375,\n",
              " 717,\n",
              " 383,\n",
              " 40,\n",
              " 74,\n",
              " 755,\n",
              " 474,\n",
              " 757,\n",
              " 989,\n",
              " 315,\n",
              " 989,\n",
              " 62,\n",
              " 603,\n",
              " 291,\n",
              " 778,\n",
              " 432,\n",
              " 904,\n",
              " 358,\n",
              " 760,\n",
              " 673,\n",
              " 941,\n",
              " 885,\n",
              " 920,\n",
              " 111,\n",
              " 978,\n",
              " 70,\n",
              " 448,\n",
              " 356,\n",
              " 508,\n",
              " 701,\n",
              " 958,\n",
              " 530,\n",
              " 191,\n",
              " 326,\n",
              " 950,\n",
              " 971,\n",
              " 371,\n",
              " 175,\n",
              " 998,\n",
              " 598,\n",
              " 850,\n",
              " 412,\n",
              " 543,\n",
              " 714,\n",
              " 861,\n",
              " 727,\n",
              " 520,\n",
              " 838,\n",
              " 618,\n",
              " 653,\n",
              " 663,\n",
              " 609,\n",
              " 159,\n",
              " 847,\n",
              " 778,\n",
              " 488,\n",
              " 891,\n",
              " 381,\n",
              " 380,\n",
              " 670,\n",
              " 75,\n",
              " 439,\n",
              " 791,\n",
              " 479,\n",
              " 852,\n",
              " 75,\n",
              " 77,\n",
              " 727,\n",
              " 539,\n",
              " 549,\n",
              " 767,\n",
              " 396,\n",
              " 426,\n",
              " 197,\n",
              " 538,\n",
              " 483,\n",
              " 255,\n",
              " 593,\n",
              " 921,\n",
              " 915,\n",
              " 690,\n",
              " 541,\n",
              " 956,\n",
              " 684,\n",
              " 585,\n",
              " 542,\n",
              " 663,\n",
              " 265,\n",
              " 965,\n",
              " 613,\n",
              " 40,\n",
              " 0,\n",
              " 35,\n",
              " 74,\n",
              " 932,\n",
              " 796,\n",
              " 132,\n",
              " 401,\n",
              " 704,\n",
              " 96,\n",
              " 479,\n",
              " 845,\n",
              " 276,\n",
              " 196,\n",
              " 126,\n",
              " 790,\n",
              " 738,\n",
              " 646,\n",
              " 918,\n",
              " 194,\n",
              " 229,\n",
              " 972,\n",
              " 550,\n",
              " 227,\n",
              " 53,\n",
              " 945,\n",
              " 159,\n",
              " 336,\n",
              " 806,\n",
              " 840,\n",
              " 620,\n",
              " 909,\n",
              " 965,\n",
              " 907,\n",
              " 220,\n",
              " 162,\n",
              " 624,\n",
              " 538,\n",
              " 234,\n",
              " 347,\n",
              " 169,\n",
              " 862,\n",
              " 908,\n",
              " 286,\n",
              " 31,\n",
              " 112,\n",
              " 125,\n",
              " 121,\n",
              " 31,\n",
              " 13,\n",
              " 787,\n",
              " 791,\n",
              " 962,\n",
              " 952,\n",
              " 230,\n",
              " 660,\n",
              " 986,\n",
              " 629,\n",
              " 270,\n",
              " 925,\n",
              " 917,\n",
              " 888,\n",
              " 854,\n",
              " 735,\n",
              " 335,\n",
              " 895,\n",
              " 522,\n",
              " 998,\n",
              " 943,\n",
              " 941,\n",
              " 432,\n",
              " 140,\n",
              " 462,\n",
              " 744,\n",
              " 19,\n",
              " 989,\n",
              " 995,\n",
              " 704,\n",
              " 847,\n",
              " 666,\n",
              " 581,\n",
              " 868,\n",
              " 974,\n",
              " 595,\n",
              " 22,\n",
              " 788,\n",
              " 445,\n",
              " 993,\n",
              " 935,\n",
              " 951,\n",
              " 448,\n",
              " 941,\n",
              " 212,\n",
              " 948,\n",
              " 153,\n",
              " 531,\n",
              " 264,\n",
              " 156,\n",
              " 99,\n",
              " 788,\n",
              " 898,\n",
              " 593,\n",
              " 847,\n",
              " 17,\n",
              " 417,\n",
              " 803,\n",
              " 203,\n",
              " 740,\n",
              " 430,\n",
              " 505,\n",
              " 690,\n",
              " 777,\n",
              " 285,\n",
              " 980,\n",
              " 488,\n",
              " 689,\n",
              " 557,\n",
              " 713,\n",
              " 298,\n",
              " 157,\n",
              " 216,\n",
              " 145,\n",
              " 894,\n",
              " 303,\n",
              " 303,\n",
              " 432,\n",
              " 302,\n",
              " 649,\n",
              " 633,\n",
              " 897,\n",
              " 907,\n",
              " 299,\n",
              " 810,\n",
              " 109,\n",
              " 372,\n",
              " 902,\n",
              " 402,\n",
              " 652,\n",
              " 973,\n",
              " 246,\n",
              " 244,\n",
              " 380,\n",
              " 23,\n",
              " 571,\n",
              " 633,\n",
              " 667,\n",
              " 704,\n",
              " 573,\n",
              " 363,\n",
              " 778,\n",
              " 411,\n",
              " 1000,\n",
              " 353,\n",
              " 160,\n",
              " 761,\n",
              " 671,\n",
              " 808,\n",
              " 170,\n",
              " 955,\n",
              " 704,\n",
              " 994,\n",
              " 528,\n",
              " 883,\n",
              " 952,\n",
              " 147,\n",
              " 733,\n",
              " 214,\n",
              " 427,\n",
              " 485,\n",
              " 449,\n",
              " 436,\n",
              " 146,\n",
              " 491,\n",
              " 785,\n",
              " 235,\n",
              " 219,\n",
              " 835,\n",
              " 801,\n",
              " 717,\n",
              " 964,\n",
              " 391,\n",
              " 534,\n",
              " 729,\n",
              " 616,\n",
              " 593,\n",
              " 948,\n",
              " 139,\n",
              " 185,\n",
              " 310,\n",
              " 252,\n",
              " 19,\n",
              " 413,\n",
              " 773,\n",
              " 516,\n",
              " 368,\n",
              " 565,\n",
              " 684,\n",
              " 798,\n",
              " 477,\n",
              " 537,\n",
              " 904,\n",
              " 454,\n",
              " 641,\n",
              " 893,\n",
              " 71,\n",
              " 328,\n",
              " 518,\n",
              " 227,\n",
              " 983,\n",
              " 719,\n",
              " 51,\n",
              " 597,\n",
              " 858,\n",
              " 235,\n",
              " 681,\n",
              " 793,\n",
              " 17,\n",
              " 95,\n",
              " 516,\n",
              " 593,\n",
              " 262,\n",
              " 622,\n",
              " 928,\n",
              " 563,\n",
              " 277,\n",
              " 738,\n",
              " 7,\n",
              " 62,\n",
              " 717,\n",
              " 808,\n",
              " 67,\n",
              " 266,\n",
              " 683,\n",
              " 931,\n",
              " 30,\n",
              " 662,\n",
              " 185,\n",
              " 719,\n",
              " 598,\n",
              " 393,\n",
              " 510,\n",
              " 707,\n",
              " 804,\n",
              " 183,\n",
              " 712,\n",
              " 223,\n",
              " 525,\n",
              " 446,\n",
              " 799,\n",
              " 934,\n",
              " 520,\n",
              " 904,\n",
              " 574,\n",
              " 198,\n",
              " 817,\n",
              " 223,\n",
              " 422,\n",
              " 757,\n",
              " 472,\n",
              " 813,\n",
              " 380,\n",
              " 570,\n",
              " 854,\n",
              " 627,\n",
              " 553,\n",
              " 245,\n",
              " 330,\n",
              " 655,\n",
              " 667,\n",
              " 603,\n",
              " 471,\n",
              " 581,\n",
              " 42,\n",
              " 65,\n",
              " 245,\n",
              " 112,\n",
              " 352,\n",
              " 787,\n",
              " 27,\n",
              " 64,\n",
              " 640,\n",
              " 657,\n",
              " 481,\n",
              " 480,\n",
              " 173,\n",
              " 332,\n",
              " 761,\n",
              " 778,\n",
              " 297,\n",
              " 416,\n",
              " 575,\n",
              " 349,\n",
              " 37,\n",
              " 537,\n",
              " 906,\n",
              " 172,\n",
              " 992,\n",
              " 894,\n",
              " 294,\n",
              " 598,\n",
              " 49,\n",
              " 458,\n",
              " 300,\n",
              " 196,\n",
              " 427,\n",
              " 244,\n",
              " 803,\n",
              " 45,\n",
              " 42,\n",
              " 511,\n",
              " 196,\n",
              " 926,\n",
              " 862,\n",
              " 385,\n",
              " 182,\n",
              " 241,\n",
              " 739,\n",
              " 229,\n",
              " 490,\n",
              " 480,\n",
              " 337,\n",
              " 443,\n",
              " 703,\n",
              " 368,\n",
              " 124,\n",
              " 851,\n",
              " 38,\n",
              " 195,\n",
              " 807,\n",
              " 723,\n",
              " 697,\n",
              " 739,\n",
              " 682,\n",
              " 759,\n",
              " 826,\n",
              " 858,\n",
              " 961,\n",
              " 377,\n",
              " 698,\n",
              " 12,\n",
              " 469,\n",
              " 984,\n",
              " 753,\n",
              " 193,\n",
              " 417,\n",
              " 473,\n",
              " 247,\n",
              " 211,\n",
              " 649,\n",
              " 76,\n",
              " 696,\n",
              " 959,\n",
              " 316,\n",
              " 199,\n",
              " 855,\n",
              " 840,\n",
              " 365,\n",
              " 460,\n",
              " 542,\n",
              " 713,\n",
              " 467,\n",
              " 877,\n",
              " 155,\n",
              " 784,\n",
              " 418,\n",
              " 829,\n",
              " 60,\n",
              " 12,\n",
              " 182,\n",
              " 999,\n",
              " 867,\n",
              " 61,\n",
              " 876,\n",
              " 496,\n",
              " 376,\n",
              " 476,\n",
              " 690,\n",
              " 67,\n",
              " 487,\n",
              " 350,\n",
              " 105,\n",
              " 553,\n",
              " 304,\n",
              " 555,\n",
              " 464,\n",
              " 129,\n",
              " 887,\n",
              " 227,\n",
              " 71,\n",
              " 212,\n",
              " 980,\n",
              " 402,\n",
              " 113,\n",
              " 903,\n",
              " 757,\n",
              " 92,\n",
              " 382,\n",
              " 470,\n",
              " 240,\n",
              " 63,\n",
              " 283,\n",
              " 613,\n",
              " 586,\n",
              " 63,\n",
              " 351,\n",
              " 711,\n",
              " 805,\n",
              " 42,\n",
              " 725,\n",
              " 380,\n",
              " 828,\n",
              " 930,\n",
              " 368,\n",
              " 757,\n",
              " 837,\n",
              " 292,\n",
              " 682,\n",
              " 901,\n",
              " 134,\n",
              " 546,\n",
              " 430,\n",
              " 848,\n",
              " 569,\n",
              " 576,\n",
              " 193,\n",
              " 427,\n",
              " 874,\n",
              " 397,\n",
              " 999,\n",
              " 834,\n",
              " 91,\n",
              " 39,\n",
              " 964,\n",
              " 832,\n",
              " 552,\n",
              " 277,\n",
              " 961,\n",
              " 40,\n",
              " 236,\n",
              " 282,\n",
              " 235,\n",
              " 93,\n",
              " 949,\n",
              " 898,\n",
              " 913,\n",
              " 529,\n",
              " 239,\n",
              " 587,\n",
              " 889,\n",
              " 362,\n",
              " 777,\n",
              " 408,\n",
              " 175,\n",
              " 36,\n",
              " 656,\n",
              " 987,\n",
              " 984,\n",
              " 271,\n",
              " 26,\n",
              " 244,\n",
              " 44,\n",
              " 63,\n",
              " 233,\n",
              " 618,\n",
              " 545,\n",
              " 38,\n",
              " 240,\n",
              " 658,\n",
              " 398,\n",
              " 186,\n",
              " 935,\n",
              " 221,\n",
              " 83,\n",
              " 389,\n",
              " 19,\n",
              " 704,\n",
              " 463,\n",
              " 913,\n",
              " 15,\n",
              " 476,\n",
              " 395,\n",
              " 899,\n",
              " 229,\n",
              " 914,\n",
              " 110,\n",
              " 884,\n",
              " 194,\n",
              " 269,\n",
              " 514,\n",
              " 301,\n",
              " 91,\n",
              " 439,\n",
              " 675,\n",
              " 135,\n",
              " 102,\n",
              " 945,\n",
              " 494,\n",
              " 762,\n",
              " 824,\n",
              " 969,\n",
              " 711,\n",
              " 826,\n",
              " 413,\n",
              " 504,\n",
              " 25,\n",
              " 43,\n",
              " 440,\n",
              " 2,\n",
              " 717,\n",
              " 951,\n",
              " 796,\n",
              " 929,\n",
              " 338,\n",
              " 739,\n",
              " 866,\n",
              " 405,\n",
              " 660,\n",
              " 344,\n",
              " 906,\n",
              " 891,\n",
              " 48,\n",
              " 876,\n",
              " 629,\n",
              " 269,\n",
              " 997,\n",
              " 734,\n",
              " 164,\n",
              " 105,\n",
              " 448,\n",
              " 184,\n",
              " 314,\n",
              " 933,\n",
              " 96,\n",
              " 50,\n",
              " 440,\n",
              " 717,\n",
              " 441,\n",
              " 250,\n",
              " 777,\n",
              " 997,\n",
              " 43,\n",
              " 75,\n",
              " 765,\n",
              " 952,\n",
              " 753,\n",
              " 766,\n",
              " 921,\n",
              " 133,\n",
              " 671,\n",
              " 308,\n",
              " 183,\n",
              " 234,\n",
              " 798,\n",
              " 314,\n",
              " 986,\n",
              " 99,\n",
              " 123,\n",
              " 331,\n",
              " 330,\n",
              " 426,\n",
              " 543,\n",
              " 540,\n",
              " 603,\n",
              " 888,\n",
              " 958,\n",
              " 867,\n",
              " 909,\n",
              " 660,\n",
              " 151,\n",
              " 835,\n",
              " 303,\n",
              " 280,\n",
              " 458,\n",
              " 561,\n",
              " 552,\n",
              " 845,\n",
              " 216,\n",
              " 567,\n",
              " 634,\n",
              " 30,\n",
              " 783,\n",
              " 889,\n",
              " 542,\n",
              " 551,\n",
              " 98,\n",
              " 752,\n",
              " 967,\n",
              " 272,\n",
              " 120,\n",
              " 513,\n",
              " 309,\n",
              " 560,\n",
              " 482,\n",
              " 918,\n",
              " 605,\n",
              " 46,\n",
              " 656,\n",
              " 41,\n",
              " 427,\n",
              " 644,\n",
              " 966,\n",
              " 275,\n",
              " 666,\n",
              " 875,\n",
              " 479,\n",
              " 521,\n",
              " 222,\n",
              " 935,\n",
              " 39,\n",
              " 173,\n",
              " 777,\n",
              " 599,\n",
              " 343,\n",
              " 561,\n",
              " 232,\n",
              " 104,\n",
              " 206,\n",
              " 641,\n",
              " 123,\n",
              " 698,\n",
              " 806,\n",
              " 800,\n",
              " 752,\n",
              " 321,\n",
              " 95,\n",
              " 539,\n",
              " 625,\n",
              " 199,\n",
              " 420,\n",
              " 724,\n",
              " 945,\n",
              " 857,\n",
              " 487,\n",
              " 317,\n",
              " 96,\n",
              " 138,\n",
              " 194,\n",
              " 140,\n",
              " 457,\n",
              " 888,\n",
              " 930,\n",
              " 359,\n",
              " 67,\n",
              " 993,\n",
              " 955,\n",
              " 675,\n",
              " 160,\n",
              " 35,\n",
              " 605,\n",
              " 683,\n",
              " 959,\n",
              " 477]"
            ]
          },
          "execution_count": 82,
          "metadata": {},
          "output_type": "execute_result"
        }
      ],
      "source": [
        "# TODO: with for loop\n",
        "list_of_randoms = []\n",
        "for cnt in range(1000):\n",
        "    list_of_randoms.append(random.randint(0,1000))\n",
        "\n",
        "print(len(list_of_randoms)) # len() gives the length of a list\n",
        "\n",
        "# TODO: with comprehension\n",
        "list_of_randoms_c = [random.randint(0,1000) for cnt in range(1000)]\n",
        "list_of_randoms"
      ]
    },
    {
      "cell_type": "markdown",
      "metadata": {
        "id": "d6HZ54wJ-GzP"
      },
      "source": [
        "### Create a list with random length\n",
        "\n",
        "A list of random length, with random numbers between 0 and 1000.\n"
      ]
    },
    {
      "cell_type": "code",
      "execution_count": 100,
      "metadata": {
        "id": "0kBHR8Ao-AOM"
      },
      "outputs": [
        {
          "name": "stdout",
          "output_type": "stream",
          "text": [
            "[683, 449, 403, 526, 59, 613, 600, 270, 753, 452]\n"
          ]
        }
      ],
      "source": [
        "num_elements = random.randint(1,10) # TODO: random len\n",
        "list_of_randoms = []\n",
        "\n",
        "# TODO: list\n",
        "list_of_randoms = [random.randint(0,1000) for cnt in range(num_elements)]\n",
        "print(list_of_randoms)"
      ]
    },
    {
      "cell_type": "markdown",
      "metadata": {},
      "source": [
        "### Addition\n",
        "\n",
        "Besides the `append()` function we can also add elements to a list by using the `+` operator to *concatenate* two lists.\n",
        "\n",
        "And just like addition on numbers we have to assign the result to a variable in order to use it later:"
      ]
    },
    {
      "cell_type": "code",
      "execution_count": 83,
      "metadata": {},
      "outputs": [],
      "source": [
        "big_list_of_randoms = list_of_randoms + list_of_randoms_c\n",
        "\n",
        "# Or, with the +=\n",
        "list_of_randoms += list_of_randoms_c"
      ]
    },
    {
      "cell_type": "markdown",
      "metadata": {
        "id": "XfMx81LP-b_h"
      },
      "source": [
        "### Find the largest element on a list\n",
        "\n",
        "Go through all of the elements and compare each element to the largest number seen so far.\n",
        "\n",
        "Update the `largest` variable if we encounter a larger number."
      ]
    },
    {
      "cell_type": "code",
      "execution_count": 84,
      "metadata": {
        "id": "J7eLIAnwxODF"
      },
      "outputs": [
        {
          "name": "stdout",
          "output_type": "stream",
          "text": [
            "1000\n"
          ]
        }
      ],
      "source": [
        "largest = list_of_randoms[0]\n",
        "\n",
        "# TODO: find max\n",
        "for x in list_of_randoms:\n",
        "    if x > largest:\n",
        "        largest = x\n",
        "\n",
        "print(largest)\n"
      ]
    },
    {
      "cell_type": "markdown",
      "metadata": {
        "id": "OQoQSbbC-7Gg"
      },
      "source": [
        "### Find the smallest element on a list\n",
        "\n",
        "Go through all of the elements and compare each element to the smallest number seen so far.\n",
        "\n",
        "Update the `smallest` variable if we encounter a smaller number."
      ]
    },
    {
      "cell_type": "code",
      "execution_count": 85,
      "metadata": {
        "id": "5OSOQAVc3s3X"
      },
      "outputs": [
        {
          "name": "stdout",
          "output_type": "stream",
          "text": [
            "0\n"
          ]
        }
      ],
      "source": [
        "smallest = list_of_randoms[0]\n",
        "\n",
        "# TODO: find min\n",
        "for x in list_of_randoms:\n",
        "    if x < smallest:\n",
        "        smallest = x\n",
        "\n",
        "print(smallest)"
      ]
    },
    {
      "cell_type": "markdown",
      "metadata": {
        "id": "rFL_vZuR_A2Z"
      },
      "source": [
        "### Find the sum of all elements on a list\n",
        "\n",
        "Go through all of the elements and add their values to an accumulator variable."
      ]
    },
    {
      "cell_type": "code",
      "execution_count": 86,
      "metadata": {
        "id": "g4FjyViC4T_p"
      },
      "outputs": [
        {
          "name": "stdout",
          "output_type": "stream",
          "text": [
            "1000291\n"
          ]
        }
      ],
      "source": [
        "my_sum = 0\n",
        "\n",
        "# TODO: find sum\n",
        "for x in list_of_randoms:\n",
        "    my_sum += x\n",
        "\n",
        "print(my_sum)"
      ]
    },
    {
      "cell_type": "markdown",
      "metadata": {
        "id": "VlI-SzPa_Ja4"
      },
      "source": [
        "### Python has built in functions for doing these things"
      ]
    },
    {
      "cell_type": "code",
      "execution_count": 87,
      "metadata": {
        "id": "ruGHhgm05p_t"
      },
      "outputs": [
        {
          "name": "stdout",
          "output_type": "stream",
          "text": [
            "0 1000 1000291\n"
          ]
        }
      ],
      "source": [
        "print(min(list_of_randoms), max(list_of_randoms), sum(list_of_randoms))"
      ]
    },
    {
      "cell_type": "markdown",
      "metadata": {},
      "source": [
        "### Find the 5 largest and 5 smallest numbers on a list\n",
        "\n",
        "# 🤔"
      ]
    },
    {
      "cell_type": "markdown",
      "metadata": {
        "id": "8sYq0tQj6z0e"
      },
      "source": [
        "### Python has a function for sorting a list that could help"
      ]
    },
    {
      "cell_type": "code",
      "execution_count": 88,
      "metadata": {
        "id": "DJlfGTZZ6SJt"
      },
      "outputs": [
        {
          "name": "stdout",
          "output_type": "stream",
          "text": [
            "[638, 459, 766, 982, 243, 604, 789, 752, 397, 946, 511, 303, 476, 389, 840, 717, 292, 739, 574, 123, 893, 440, 164, 381, 102, 912, 289, 912, 124, 977, 1, 280, 428, 16, 78, 314, 541, 393, 883, 214, 208, 264, 849, 83, 978, 918, 100, 755, 311, 16, 857, 919, 521, 92, 594, 467, 568, 598, 485, 576, 824, 536, 537, 657, 314, 384, 901, 612, 766, 133, 826, 58, 934, 665, 496, 174, 21, 820, 113, 459, 180, 228, 305, 249, 663, 746, 68, 148, 934, 454, 342, 795, 542, 891, 967, 974, 990, 78, 200, 477, 972, 363, 774, 57, 246, 733, 923, 366, 311, 384, 656, 118, 278, 61, 300, 525, 744, 160, 633, 849, 613, 699, 348, 65, 797, 231, 490, 456, 796, 135, 350, 674, 683, 979, 369, 527, 267, 744, 556, 9, 233, 621, 357, 945, 23, 277, 183, 714, 764, 396, 760, 365, 550, 367, 122, 948, 247, 652, 740, 168, 987, 998, 847, 821, 584, 933, 266, 627, 22, 485, 854, 682, 397, 808, 672, 719, 493, 722, 360, 342, 224, 196, 110, 17, 140, 127, 0, 596, 657, 823, 482, 96, 303, 42, 96, 506, 263, 298, 45, 967, 544, 101, 771, 732, 954, 509, 980, 850, 558, 565, 930, 754, 193, 668, 397, 359, 791, 20, 289, 781, 813, 854, 440, 571, 326, 784, 226, 744, 159, 336, 973, 542, 68, 683, 436, 480, 165, 872, 787, 671, 705, 65, 461, 373, 88, 180, 663, 112, 481, 750, 216, 725, 481, 2, 708, 337, 490, 261, 375, 717, 383, 40, 74, 755, 474, 757, 989, 315, 989, 62, 603, 291, 778, 432, 904, 358, 760, 673, 941, 885, 920, 111, 978, 70, 448, 356, 508, 701, 958, 530, 191, 326, 950, 971, 371, 175, 998, 598, 850, 412, 543, 714, 861, 727, 520, 838, 618, 653, 663, 609, 159, 847, 778, 488, 891, 381, 380, 670, 75, 439, 791, 479, 852, 75, 77, 727, 539, 549, 767, 396, 426, 197, 538, 483, 255, 593, 921, 915, 690, 541, 956, 684, 585, 542, 663, 265, 965, 613, 40, 0, 35, 74, 932, 796, 132, 401, 704, 96, 479, 845, 276, 196, 126, 790, 738, 646, 918, 194, 229, 972, 550, 227, 53, 945, 159, 336, 806, 840, 620, 909, 965, 907, 220, 162, 624, 538, 234, 347, 169, 862, 908, 286, 31, 112, 125, 121, 31, 13, 787, 791, 962, 952, 230, 660, 986, 629, 270, 925, 917, 888, 854, 735, 335, 895, 522, 998, 943, 941, 432, 140, 462, 744, 19, 989, 995, 704, 847, 666, 581, 868, 974, 595, 22, 788, 445, 993, 935, 951, 448, 941, 212, 948, 153, 531, 264, 156, 99, 788, 898, 593, 847, 17, 417, 803, 203, 740, 430, 505, 690, 777, 285, 980, 488, 689, 557, 713, 298, 157, 216, 145, 894, 303, 303, 432, 302, 649, 633, 897, 907, 299, 810, 109, 372, 902, 402, 652, 973, 246, 244, 380, 23, 571, 633, 667, 704, 573, 363, 778, 411, 1000, 353, 160, 761, 671, 808, 170, 955, 704, 994, 528, 883, 952, 147, 733, 214, 427, 485, 449, 436, 146, 491, 785, 235, 219, 835, 801, 717, 964, 391, 534, 729, 616, 593, 948, 139, 185, 310, 252, 19, 413, 773, 516, 368, 565, 684, 798, 477, 537, 904, 454, 641, 893, 71, 328, 518, 227, 983, 719, 51, 597, 858, 235, 681, 793, 17, 95, 516, 593, 262, 622, 928, 563, 277, 738, 7, 62, 717, 808, 67, 266, 683, 931, 30, 662, 185, 719, 598, 393, 510, 707, 804, 183, 712, 223, 525, 446, 799, 934, 520, 904, 574, 198, 817, 223, 422, 757, 472, 813, 380, 570, 854, 627, 553, 245, 330, 655, 667, 603, 471, 581, 42, 65, 245, 112, 352, 787, 27, 64, 640, 657, 481, 480, 173, 332, 761, 778, 297, 416, 575, 349, 37, 537, 906, 172, 992, 894, 294, 598, 49, 458, 300, 196, 427, 244, 803, 45, 42, 511, 196, 926, 862, 385, 182, 241, 739, 229, 490, 480, 337, 443, 703, 368, 124, 851, 38, 195, 807, 723, 697, 739, 682, 759, 826, 858, 961, 377, 698, 12, 469, 984, 753, 193, 417, 473, 247, 211, 649, 76, 696, 959, 316, 199, 855, 840, 365, 460, 542, 713, 467, 877, 155, 784, 418, 829, 60, 12, 182, 999, 867, 61, 876, 496, 376, 476, 690, 67, 487, 350, 105, 553, 304, 555, 464, 129, 887, 227, 71, 212, 980, 402, 113, 903, 757, 92, 382, 470, 240, 63, 283, 613, 586, 63, 351, 711, 805, 42, 725, 380, 828, 930, 368, 757, 837, 292, 682, 901, 134, 546, 430, 848, 569, 576, 193, 427, 874, 397, 999, 834, 91, 39, 964, 832, 552, 277, 961, 40, 236, 282, 235, 93, 949, 898, 913, 529, 239, 587, 889, 362, 777, 408, 175, 36, 656, 987, 984, 271, 26, 244, 44, 63, 233, 618, 545, 38, 240, 658, 398, 186, 935, 221, 83, 389, 19, 704, 463, 913, 15, 476, 395, 899, 229, 914, 110, 884, 194, 269, 514, 301, 91, 439, 675, 135, 102, 945, 494, 762, 824, 969, 711, 826, 413, 504, 25, 43, 440, 2, 717, 951, 796, 929, 338, 739, 866, 405, 660, 344, 906, 891, 48, 876, 629, 269, 997, 734, 164, 105, 448, 184, 314, 933, 96, 50, 440, 717, 441, 250, 777, 997, 43, 75, 765, 952, 753, 766, 921, 133, 671, 308, 183, 234, 798, 314, 986, 99, 123, 331, 330, 426, 543, 540, 603, 888, 958, 867, 909, 660, 151, 835, 303, 280, 458, 561, 552, 845, 216, 567, 634, 30, 783, 889, 542, 551, 98, 752, 967, 272, 120, 513, 309, 560, 482, 918, 605, 46, 656, 41, 427, 644, 966, 275, 666, 875, 479, 521, 222, 935, 39, 173, 777, 599, 343, 561, 232, 104, 206, 641, 123, 698, 806, 800, 752, 321, 95, 539, 625, 199, 420, 724, 945, 857, 487, 317, 96, 138, 194, 140, 457, 888, 930, 359, 67, 993, 955, 675, 160, 35, 605, 683, 959, 477, 749, 953, 717, 298, 769, 422, 188, 14, 68, 710, 714, 72, 625, 525, 636, 463, 100, 958, 821, 190, 930, 709, 16, 954, 958, 723, 750, 45, 517, 838, 503, 467, 899, 160, 713, 492, 776, 829, 901, 894, 882, 410, 374, 118, 228, 955, 492, 450, 14, 392, 267, 328, 816, 328, 37, 571, 574, 80, 223, 239, 696, 455, 967, 642, 816, 478, 251, 730, 195, 872, 639, 506, 725, 478, 31, 610, 332, 83, 415, 238, 106, 255, 302, 110, 765, 385, 862, 154, 393, 54, 160, 0, 299, 744, 602, 222, 268, 429, 616, 43, 148, 710, 852, 574, 206, 876, 926, 663, 302, 982, 564, 884, 513, 420, 17, 886, 962, 850, 853, 317, 765, 569, 585, 683, 41, 93, 313, 564, 925, 603, 15, 417, 959, 971, 888, 574, 680, 626, 369, 87, 150, 972, 719, 203, 217, 926, 398, 51, 759, 232, 191, 58, 651, 448, 108, 102, 557, 909, 256, 254, 675, 19, 768, 432, 481, 78, 474, 587, 654, 984, 73, 27, 181, 618, 115, 668, 622, 419, 727, 905, 454, 777, 395, 690, 762, 984, 719, 170, 395, 120, 83, 961, 376, 37, 897, 837, 417, 657, 404, 371, 969, 213, 169, 467, 455, 95, 473, 672, 525, 939, 852, 159, 810, 881, 790, 448, 304, 293, 75, 280, 349, 519, 73, 227, 723, 556, 189, 550, 981, 260, 491, 91, 849, 347, 480, 653, 39, 693, 575, 450, 879, 823, 334, 967, 890, 7, 949, 879, 434, 338, 329, 641, 76, 45, 816, 492, 11, 774, 61, 417, 892, 343, 8, 51, 841, 936, 973, 335, 896, 506, 541, 280, 928, 124, 603, 74, 60, 470, 457, 511, 450, 412, 574, 724, 485, 463, 982, 864, 169, 35, 878, 531, 397, 350, 480, 832, 67, 638, 968, 527, 433, 810, 721, 688, 437, 1000, 482, 147, 366, 528, 406, 239, 522, 181, 209, 427, 222, 243, 169, 322, 342, 35, 917, 72, 229, 99, 926, 885, 923, 707, 875, 105, 145, 258, 131, 1, 668, 34, 585, 651, 647, 5, 638, 279, 228, 869, 991, 659, 265, 673, 1000, 224, 981, 67, 731, 58, 528, 471, 2, 17, 40, 964, 53, 768, 635, 453, 546, 648, 805, 599, 709, 851, 153, 307, 230, 88, 103, 830, 710, 856, 16, 623, 5, 769, 100, 888, 949, 771, 319, 453, 760, 160, 418, 500, 302, 337, 427, 281, 650, 320, 985, 512, 321, 260, 566, 883, 374, 519, 836, 999, 199, 884, 761, 539, 798, 257, 129, 624, 204, 306, 493, 184, 161, 857, 645, 118, 195, 391, 781, 68, 196, 626, 371, 655, 699, 61, 999, 482, 138, 675, 986, 40, 299, 740, 812, 490, 538, 589, 403, 934, 374, 299, 720, 738, 188, 878, 404, 353, 361, 746, 238, 247, 193, 189, 20, 570, 337, 385, 615, 282, 366, 665, 920, 180, 792, 795, 406, 728, 308, 716, 923, 216, 517, 120, 402, 614, 455, 17, 104, 316, 383, 788, 749, 164, 30, 730, 512, 91, 860, 954, 663, 605, 169, 817, 529, 564, 718, 995, 65, 519, 810, 176, 995, 423, 845, 184, 572, 533, 74, 500, 130, 309, 132, 86, 953, 59, 613, 507, 502, 183, 134, 517, 257, 60, 606, 432, 888, 622, 402, 655, 562, 80, 134, 958, 167, 682, 783, 215, 788, 865, 560, 267, 140, 454, 93, 657, 846, 788, 69, 324, 644, 509, 962, 419, 492, 433, 506, 796, 68, 634, 880, 586, 156, 407, 258, 26, 454, 721, 466, 536, 564, 944, 169, 913, 97, 948, 272, 881, 704, 975, 421, 819, 510, 648, 846, 594, 12, 508, 49, 438, 235, 469, 175, 654, 58, 255, 673, 360, 941, 783, 700, 855, 836, 72, 511, 894, 670, 400, 5, 562, 668, 288, 655, 521, 218, 355, 72, 477, 572, 266, 559, 178, 973, 593, 531, 753, 230, 218, 282, 401, 64, 90, 451, 242, 449, 434, 424, 896, 619, 911, 473, 467, 588, 859, 621, 622, 148, 721, 591, 554, 267, 569, 958, 36, 249, 23, 930, 689, 566, 691, 223, 907, 767, 295, 528, 905, 288, 507, 816, 950, 722, 42, 535, 206, 720, 542, 559, 792, 777, 123, 606, 738, 923, 6, 592, 399, 157, 259, 781, 433, 417, 539, 12, 530, 878, 451, 549, 454, 63, 142, 886, 863, 371, 663, 733, 692, 781, 306, 881, 688, 367, 596, 565, 580, 142, 34, 437, 3, 360, 429, 58, 168, 69, 368, 315, 185, 568, 232, 918, 113, 678, 761, 227, 770, 144, 657, 899, 975, 266, 673, 976, 503, 285, 949, 274, 786, 575, 258, 309, 942, 120, 122, 920, 944, 864, 395, 639, 88, 930, 875, 468, 436, 568, 120, 496, 224, 731, 375, 210, 35, 439, 141, 97, 778, 988, 601, 749, 969, 912, 905, 319, 159, 280, 562, 139, 559, 327, 755, 272, 217, 24, 218, 43, 771, 723, 522, 473, 53, 703, 749, 135, 808, 612, 977, 636, 176, 678, 222, 299, 274, 686, 674, 669, 268, 834, 387, 830, 747, 630, 402, 575, 828, 346, 221, 484, 518, 735, 330, 953, 89, 913, 584, 436, 156, 505, 844, 349, 865, 231, 170, 856, 614, 13, 141, 260, 147, 731, 287, 863, 557, 148, 266, 640, 508, 327, 746, 378, 31, 886, 825, 388, 969, 818, 406, 66, 108, 292, 648, 696, 778, 499, 896, 802, 154, 706, 570, 87, 220, 575, 264, 737, 986, 437, 688, 161, 804, 174, 565, 25, 825, 248, 177, 699, 681, 709, 906, 706, 37, 969, 621, 281, 969, 209, 803, 785, 457, 211, 489, 473, 407, 790, 119, 953, 20, 174, 199, 134, 73, 299, 224, 428, 798, 691, 50, 133, 393, 490, 922, 130, 25, 194, 635, 451, 644, 596, 714, 462, 37, 932, 111, 746, 701, 164, 158, 640, 998, 25, 17, 374, 332, 690, 414, 147, 72, 437, 426, 187, 949, 164, 984, 0, 979, 810, 319, 647, 149, 106, 810, 634, 972, 650, 378, 336, 851, 474, 384, 740, 635, 940, 116, 644, 110, 503, 634, 607, 216, 596, 824, 503, 56]\n",
            "[0, 0, 0, 0, 1, 1, 2, 2, 2, 3, 5, 5, 5, 6, 7, 7, 8, 9, 11, 12, 12, 12, 12, 13, 13, 14, 14, 15, 15, 16, 16, 16, 16, 17, 17, 17, 17, 17, 17, 17, 19, 19, 19, 19, 20, 20, 20, 21, 22, 22, 23, 23, 23, 24, 25, 25, 25, 25, 26, 26, 27, 27, 30, 30, 30, 31, 31, 31, 31, 34, 34, 35, 35, 35, 35, 35, 36, 36, 37, 37, 37, 37, 37, 38, 38, 39, 39, 39, 40, 40, 40, 40, 40, 41, 41, 42, 42, 42, 42, 42, 43, 43, 43, 43, 44, 45, 45, 45, 45, 46, 48, 49, 49, 50, 50, 51, 51, 51, 53, 53, 53, 54, 56, 57, 58, 58, 58, 58, 58, 59, 60, 60, 60, 61, 61, 61, 61, 62, 62, 63, 63, 63, 63, 64, 64, 65, 65, 65, 65, 66, 67, 67, 67, 67, 67, 68, 68, 68, 68, 68, 69, 69, 70, 71, 71, 72, 72, 72, 72, 72, 73, 73, 73, 74, 74, 74, 74, 75, 75, 75, 75, 76, 76, 77, 78, 78, 78, 80, 80, 83, 83, 83, 83, 86, 87, 87, 88, 88, 88, 89, 90, 91, 91, 91, 91, 92, 92, 93, 93, 93, 95, 95, 95, 96, 96, 96, 96, 96, 97, 97, 98, 99, 99, 99, 100, 100, 100, 101, 102, 102, 102, 103, 104, 104, 105, 105, 105, 106, 106, 108, 108, 109, 110, 110, 110, 110, 111, 111, 112, 112, 112, 113, 113, 113, 115, 116, 118, 118, 118, 119, 120, 120, 120, 120, 120, 121, 122, 122, 123, 123, 123, 123, 124, 124, 124, 125, 126, 127, 129, 129, 130, 130, 131, 132, 132, 133, 133, 133, 134, 134, 134, 134, 135, 135, 135, 138, 138, 139, 139, 140, 140, 140, 140, 141, 141, 142, 142, 144, 145, 145, 146, 147, 147, 147, 147, 148, 148, 148, 148, 149, 150, 151, 153, 153, 154, 154, 155, 156, 156, 156, 157, 157, 158, 159, 159, 159, 159, 159, 160, 160, 160, 160, 160, 160, 161, 161, 162, 164, 164, 164, 164, 164, 165, 167, 168, 168, 169, 169, 169, 169, 169, 169, 170, 170, 170, 172, 173, 173, 174, 174, 174, 175, 175, 175, 176, 176, 177, 178, 180, 180, 180, 181, 181, 182, 182, 183, 183, 183, 183, 184, 184, 184, 185, 185, 185, 186, 187, 188, 188, 189, 189, 190, 191, 191, 193, 193, 193, 193, 194, 194, 194, 194, 195, 195, 195, 196, 196, 196, 196, 196, 197, 198, 199, 199, 199, 199, 200, 203, 203, 204, 206, 206, 206, 208, 209, 209, 210, 211, 211, 212, 212, 213, 214, 214, 215, 216, 216, 216, 216, 216, 217, 217, 218, 218, 218, 219, 220, 220, 221, 221, 222, 222, 222, 222, 223, 223, 223, 223, 224, 224, 224, 224, 226, 227, 227, 227, 227, 227, 228, 228, 228, 229, 229, 229, 229, 230, 230, 230, 231, 231, 232, 232, 232, 233, 233, 234, 234, 235, 235, 235, 235, 236, 238, 238, 239, 239, 239, 240, 240, 241, 242, 243, 243, 244, 244, 244, 245, 245, 246, 246, 247, 247, 247, 248, 249, 249, 250, 251, 252, 254, 255, 255, 255, 256, 257, 257, 258, 258, 258, 259, 260, 260, 260, 261, 262, 263, 264, 264, 264, 265, 265, 266, 266, 266, 266, 266, 267, 267, 267, 267, 268, 268, 269, 269, 270, 271, 272, 272, 272, 274, 274, 275, 276, 277, 277, 277, 278, 279, 280, 280, 280, 280, 280, 281, 281, 282, 282, 282, 283, 285, 285, 286, 287, 288, 288, 289, 289, 291, 292, 292, 292, 293, 294, 295, 297, 298, 298, 298, 299, 299, 299, 299, 299, 299, 300, 300, 301, 302, 302, 302, 302, 303, 303, 303, 303, 303, 304, 304, 305, 306, 306, 307, 308, 308, 309, 309, 309, 310, 311, 311, 313, 314, 314, 314, 314, 315, 315, 316, 316, 317, 317, 319, 319, 319, 320, 321, 321, 322, 324, 326, 326, 327, 327, 328, 328, 328, 329, 330, 330, 330, 331, 332, 332, 332, 334, 335, 335, 336, 336, 336, 337, 337, 337, 337, 338, 338, 342, 342, 342, 343, 343, 344, 346, 347, 347, 348, 349, 349, 349, 350, 350, 350, 351, 352, 353, 353, 355, 356, 357, 358, 359, 359, 360, 360, 360, 361, 362, 363, 363, 365, 365, 366, 366, 366, 367, 367, 368, 368, 368, 368, 369, 369, 371, 371, 371, 371, 372, 373, 374, 374, 374, 374, 375, 375, 376, 376, 377, 378, 378, 380, 380, 380, 380, 381, 381, 382, 383, 383, 384, 384, 384, 385, 385, 385, 387, 388, 389, 389, 391, 391, 392, 393, 393, 393, 393, 395, 395, 395, 395, 396, 396, 397, 397, 397, 397, 397, 398, 398, 399, 400, 401, 401, 402, 402, 402, 402, 402, 403, 404, 404, 405, 406, 406, 406, 407, 407, 408, 410, 411, 412, 412, 413, 413, 414, 415, 416, 417, 417, 417, 417, 417, 417, 418, 418, 419, 419, 420, 420, 421, 422, 422, 423, 424, 426, 426, 426, 427, 427, 427, 427, 427, 427, 428, 428, 429, 429, 430, 430, 432, 432, 432, 432, 432, 433, 433, 433, 434, 434, 436, 436, 436, 436, 437, 437, 437, 437, 438, 439, 439, 439, 440, 440, 440, 440, 441, 443, 445, 446, 448, 448, 448, 448, 448, 449, 449, 450, 450, 450, 451, 451, 451, 453, 453, 454, 454, 454, 454, 454, 454, 455, 455, 455, 456, 457, 457, 457, 458, 458, 459, 459, 460, 461, 462, 462, 463, 463, 463, 464, 466, 467, 467, 467, 467, 467, 468, 469, 469, 470, 470, 471, 471, 472, 473, 473, 473, 473, 473, 474, 474, 474, 476, 476, 476, 477, 477, 477, 477, 478, 478, 479, 479, 479, 480, 480, 480, 480, 480, 481, 481, 481, 481, 482, 482, 482, 482, 483, 484, 485, 485, 485, 485, 487, 487, 488, 488, 489, 490, 490, 490, 490, 490, 491, 491, 492, 492, 492, 492, 493, 493, 494, 496, 496, 496, 499, 500, 500, 502, 503, 503, 503, 503, 504, 505, 505, 506, 506, 506, 506, 507, 507, 508, 508, 508, 509, 509, 510, 510, 511, 511, 511, 511, 512, 512, 513, 513, 514, 516, 516, 517, 517, 517, 518, 518, 519, 519, 519, 520, 520, 521, 521, 521, 522, 522, 522, 525, 525, 525, 525, 527, 527, 528, 528, 528, 528, 529, 529, 530, 530, 531, 531, 531, 533, 534, 535, 536, 536, 537, 537, 537, 538, 538, 538, 539, 539, 539, 539, 540, 541, 541, 541, 542, 542, 542, 542, 542, 542, 543, 543, 544, 545, 546, 546, 549, 549, 550, 550, 550, 551, 552, 552, 553, 553, 554, 555, 556, 556, 557, 557, 557, 558, 559, 559, 559, 560, 560, 561, 561, 562, 562, 562, 563, 564, 564, 564, 564, 565, 565, 565, 565, 566, 566, 567, 568, 568, 568, 569, 569, 569, 570, 570, 570, 571, 571, 571, 572, 572, 573, 574, 574, 574, 574, 574, 574, 575, 575, 575, 575, 575, 576, 576, 580, 581, 581, 584, 584, 585, 585, 585, 586, 586, 587, 587, 588, 589, 591, 592, 593, 593, 593, 593, 593, 594, 594, 595, 596, 596, 596, 596, 597, 598, 598, 598, 598, 599, 599, 601, 602, 603, 603, 603, 603, 603, 604, 605, 605, 605, 606, 606, 607, 609, 610, 612, 612, 613, 613, 613, 613, 614, 614, 615, 616, 616, 618, 618, 618, 619, 620, 621, 621, 621, 622, 622, 622, 622, 623, 624, 624, 625, 625, 626, 626, 627, 627, 629, 629, 630, 633, 633, 633, 634, 634, 634, 634, 635, 635, 635, 636, 636, 638, 638, 638, 639, 639, 640, 640, 640, 641, 641, 641, 642, 644, 644, 644, 644, 645, 646, 647, 647, 648, 648, 648, 649, 649, 650, 650, 651, 651, 652, 652, 653, 653, 654, 654, 655, 655, 655, 655, 656, 656, 656, 657, 657, 657, 657, 657, 657, 658, 659, 660, 660, 660, 662, 663, 663, 663, 663, 663, 663, 663, 665, 665, 666, 666, 667, 667, 668, 668, 668, 668, 669, 670, 670, 671, 671, 671, 672, 672, 673, 673, 673, 673, 674, 674, 675, 675, 675, 675, 678, 678, 680, 681, 681, 682, 682, 682, 682, 683, 683, 683, 683, 683, 684, 684, 686, 688, 688, 688, 689, 689, 690, 690, 690, 690, 690, 691, 691, 692, 693, 696, 696, 696, 697, 698, 698, 699, 699, 699, 700, 701, 701, 703, 703, 704, 704, 704, 704, 704, 704, 705, 706, 706, 707, 707, 708, 709, 709, 709, 710, 710, 710, 711, 711, 712, 713, 713, 713, 714, 714, 714, 714, 716, 717, 717, 717, 717, 717, 717, 717, 718, 719, 719, 719, 719, 719, 720, 720, 721, 721, 721, 722, 722, 723, 723, 723, 723, 724, 724, 725, 725, 725, 727, 727, 727, 728, 729, 730, 730, 731, 731, 731, 732, 733, 733, 733, 734, 735, 735, 737, 738, 738, 738, 738, 739, 739, 739, 739, 740, 740, 740, 740, 744, 744, 744, 744, 744, 746, 746, 746, 746, 747, 749, 749, 749, 749, 750, 750, 752, 752, 752, 753, 753, 753, 754, 755, 755, 755, 757, 757, 757, 757, 759, 759, 760, 760, 760, 761, 761, 761, 761, 762, 762, 764, 765, 765, 765, 766, 766, 766, 767, 767, 768, 768, 769, 769, 770, 771, 771, 771, 773, 774, 774, 776, 777, 777, 777, 777, 777, 777, 778, 778, 778, 778, 778, 778, 781, 781, 781, 781, 783, 783, 783, 784, 784, 785, 785, 786, 787, 787, 787, 788, 788, 788, 788, 788, 789, 790, 790, 790, 791, 791, 791, 792, 792, 793, 795, 795, 796, 796, 796, 796, 797, 798, 798, 798, 798, 799, 800, 801, 802, 803, 803, 803, 804, 804, 805, 805, 806, 806, 807, 808, 808, 808, 808, 810, 810, 810, 810, 810, 810, 812, 813, 813, 816, 816, 816, 816, 817, 817, 818, 819, 820, 821, 821, 823, 823, 824, 824, 824, 825, 825, 826, 826, 826, 828, 828, 829, 829, 830, 830, 832, 832, 834, 834, 835, 835, 836, 836, 837, 837, 838, 838, 840, 840, 840, 841, 844, 845, 845, 845, 846, 846, 847, 847, 847, 847, 848, 849, 849, 849, 850, 850, 850, 851, 851, 851, 852, 852, 852, 853, 854, 854, 854, 854, 855, 855, 856, 856, 857, 857, 857, 858, 858, 859, 860, 861, 862, 862, 862, 863, 863, 864, 864, 865, 865, 866, 867, 867, 868, 869, 872, 872, 874, 875, 875, 875, 876, 876, 876, 877, 878, 878, 878, 879, 879, 880, 881, 881, 881, 882, 883, 883, 883, 884, 884, 884, 885, 885, 886, 886, 886, 887, 888, 888, 888, 888, 888, 888, 889, 889, 890, 891, 891, 891, 892, 893, 893, 894, 894, 894, 894, 895, 896, 896, 896, 897, 897, 898, 898, 899, 899, 899, 901, 901, 901, 902, 903, 904, 904, 904, 905, 905, 905, 906, 906, 906, 907, 907, 907, 908, 909, 909, 909, 911, 912, 912, 912, 913, 913, 913, 913, 914, 915, 917, 917, 918, 918, 918, 918, 919, 920, 920, 920, 921, 921, 922, 923, 923, 923, 923, 925, 925, 926, 926, 926, 926, 928, 928, 929, 930, 930, 930, 930, 930, 930, 931, 932, 932, 933, 933, 934, 934, 934, 934, 935, 935, 935, 936, 939, 940, 941, 941, 941, 941, 942, 943, 944, 944, 945, 945, 945, 945, 946, 948, 948, 948, 948, 949, 949, 949, 949, 949, 950, 950, 951, 951, 952, 952, 952, 953, 953, 953, 953, 954, 954, 954, 955, 955, 955, 956, 958, 958, 958, 958, 958, 958, 959, 959, 959, 961, 961, 961, 962, 962, 962, 964, 964, 964, 965, 965, 966, 967, 967, 967, 967, 967, 968, 969, 969, 969, 969, 969, 969, 971, 971, 972, 972, 972, 972, 973, 973, 973, 973, 974, 974, 975, 975, 976, 977, 977, 978, 978, 979, 979, 980, 980, 980, 981, 981, 982, 982, 982, 983, 984, 984, 984, 984, 984, 985, 986, 986, 986, 986, 987, 987, 988, 989, 989, 989, 990, 991, 992, 993, 993, 994, 995, 995, 995, 997, 997, 998, 998, 998, 998, 999, 999, 999, 999, 1000, 1000, 1000]\n"
          ]
        }
      ],
      "source": [
        "my_sorted_list = sorted(list_of_randoms)\n",
        "\n",
        "print(list_of_randoms)\n",
        "print(my_sorted_list)"
      ]
    },
    {
      "cell_type": "markdown",
      "metadata": {},
      "source": [
        "### Functions on lists\n",
        "\n",
        "These are functions that Python gives us to work on lists.\n",
        "\n",
        "There are functions for sorting, reversing and getting the length of a `list`:\n",
        "\n",
        "<img src=\"./imgs/lists01.jpg\" width=\"600px\" />\n",
        "\n",
        "#### Reverse sorting:"
      ]
    },
    {
      "cell_type": "code",
      "execution_count": 90,
      "metadata": {},
      "outputs": [
        {
          "name": "stdout",
          "output_type": "stream",
          "text": [
            "[638, 459, 766, 982, 243, 604, 789, 752, 397, 946, 511, 303, 476, 389, 840, 717, 292, 739, 574, 123, 893, 440, 164, 381, 102, 912, 289, 912, 124, 977, 1, 280, 428, 16, 78, 314, 541, 393, 883, 214, 208, 264, 849, 83, 978, 918, 100, 755, 311, 16, 857, 919, 521, 92, 594, 467, 568, 598, 485, 576, 824, 536, 537, 657, 314, 384, 901, 612, 766, 133, 826, 58, 934, 665, 496, 174, 21, 820, 113, 459, 180, 228, 305, 249, 663, 746, 68, 148, 934, 454, 342, 795, 542, 891, 967, 974, 990, 78, 200, 477, 972, 363, 774, 57, 246, 733, 923, 366, 311, 384, 656, 118, 278, 61, 300, 525, 744, 160, 633, 849, 613, 699, 348, 65, 797, 231, 490, 456, 796, 135, 350, 674, 683, 979, 369, 527, 267, 744, 556, 9, 233, 621, 357, 945, 23, 277, 183, 714, 764, 396, 760, 365, 550, 367, 122, 948, 247, 652, 740, 168, 987, 998, 847, 821, 584, 933, 266, 627, 22, 485, 854, 682, 397, 808, 672, 719, 493, 722, 360, 342, 224, 196, 110, 17, 140, 127, 0, 596, 657, 823, 482, 96, 303, 42, 96, 506, 263, 298, 45, 967, 544, 101, 771, 732, 954, 509, 980, 850, 558, 565, 930, 754, 193, 668, 397, 359, 791, 20, 289, 781, 813, 854, 440, 571, 326, 784, 226, 744, 159, 336, 973, 542, 68, 683, 436, 480, 165, 872, 787, 671, 705, 65, 461, 373, 88, 180, 663, 112, 481, 750, 216, 725, 481, 2, 708, 337, 490, 261, 375, 717, 383, 40, 74, 755, 474, 757, 989, 315, 989, 62, 603, 291, 778, 432, 904, 358, 760, 673, 941, 885, 920, 111, 978, 70, 448, 356, 508, 701, 958, 530, 191, 326, 950, 971, 371, 175, 998, 598, 850, 412, 543, 714, 861, 727, 520, 838, 618, 653, 663, 609, 159, 847, 778, 488, 891, 381, 380, 670, 75, 439, 791, 479, 852, 75, 77, 727, 539, 549, 767, 396, 426, 197, 538, 483, 255, 593, 921, 915, 690, 541, 956, 684, 585, 542, 663, 265, 965, 613, 40, 0, 35, 74, 932, 796, 132, 401, 704, 96, 479, 845, 276, 196, 126, 790, 738, 646, 918, 194, 229, 972, 550, 227, 53, 945, 159, 336, 806, 840, 620, 909, 965, 907, 220, 162, 624, 538, 234, 347, 169, 862, 908, 286, 31, 112, 125, 121, 31, 13, 787, 791, 962, 952, 230, 660, 986, 629, 270, 925, 917, 888, 854, 735, 335, 895, 522, 998, 943, 941, 432, 140, 462, 744, 19, 989, 995, 704, 847, 666, 581, 868, 974, 595, 22, 788, 445, 993, 935, 951, 448, 941, 212, 948, 153, 531, 264, 156, 99, 788, 898, 593, 847, 17, 417, 803, 203, 740, 430, 505, 690, 777, 285, 980, 488, 689, 557, 713, 298, 157, 216, 145, 894, 303, 303, 432, 302, 649, 633, 897, 907, 299, 810, 109, 372, 902, 402, 652, 973, 246, 244, 380, 23, 571, 633, 667, 704, 573, 363, 778, 411, 1000, 353, 160, 761, 671, 808, 170, 955, 704, 994, 528, 883, 952, 147, 733, 214, 427, 485, 449, 436, 146, 491, 785, 235, 219, 835, 801, 717, 964, 391, 534, 729, 616, 593, 948, 139, 185, 310, 252, 19, 413, 773, 516, 368, 565, 684, 798, 477, 537, 904, 454, 641, 893, 71, 328, 518, 227, 983, 719, 51, 597, 858, 235, 681, 793, 17, 95, 516, 593, 262, 622, 928, 563, 277, 738, 7, 62, 717, 808, 67, 266, 683, 931, 30, 662, 185, 719, 598, 393, 510, 707, 804, 183, 712, 223, 525, 446, 799, 934, 520, 904, 574, 198, 817, 223, 422, 757, 472, 813, 380, 570, 854, 627, 553, 245, 330, 655, 667, 603, 471, 581, 42, 65, 245, 112, 352, 787, 27, 64, 640, 657, 481, 480, 173, 332, 761, 778, 297, 416, 575, 349, 37, 537, 906, 172, 992, 894, 294, 598, 49, 458, 300, 196, 427, 244, 803, 45, 42, 511, 196, 926, 862, 385, 182, 241, 739, 229, 490, 480, 337, 443, 703, 368, 124, 851, 38, 195, 807, 723, 697, 739, 682, 759, 826, 858, 961, 377, 698, 12, 469, 984, 753, 193, 417, 473, 247, 211, 649, 76, 696, 959, 316, 199, 855, 840, 365, 460, 542, 713, 467, 877, 155, 784, 418, 829, 60, 12, 182, 999, 867, 61, 876, 496, 376, 476, 690, 67, 487, 350, 105, 553, 304, 555, 464, 129, 887, 227, 71, 212, 980, 402, 113, 903, 757, 92, 382, 470, 240, 63, 283, 613, 586, 63, 351, 711, 805, 42, 725, 380, 828, 930, 368, 757, 837, 292, 682, 901, 134, 546, 430, 848, 569, 576, 193, 427, 874, 397, 999, 834, 91, 39, 964, 832, 552, 277, 961, 40, 236, 282, 235, 93, 949, 898, 913, 529, 239, 587, 889, 362, 777, 408, 175, 36, 656, 987, 984, 271, 26, 244, 44, 63, 233, 618, 545, 38, 240, 658, 398, 186, 935, 221, 83, 389, 19, 704, 463, 913, 15, 476, 395, 899, 229, 914, 110, 884, 194, 269, 514, 301, 91, 439, 675, 135, 102, 945, 494, 762, 824, 969, 711, 826, 413, 504, 25, 43, 440, 2, 717, 951, 796, 929, 338, 739, 866, 405, 660, 344, 906, 891, 48, 876, 629, 269, 997, 734, 164, 105, 448, 184, 314, 933, 96, 50, 440, 717, 441, 250, 777, 997, 43, 75, 765, 952, 753, 766, 921, 133, 671, 308, 183, 234, 798, 314, 986, 99, 123, 331, 330, 426, 543, 540, 603, 888, 958, 867, 909, 660, 151, 835, 303, 280, 458, 561, 552, 845, 216, 567, 634, 30, 783, 889, 542, 551, 98, 752, 967, 272, 120, 513, 309, 560, 482, 918, 605, 46, 656, 41, 427, 644, 966, 275, 666, 875, 479, 521, 222, 935, 39, 173, 777, 599, 343, 561, 232, 104, 206, 641, 123, 698, 806, 800, 752, 321, 95, 539, 625, 199, 420, 724, 945, 857, 487, 317, 96, 138, 194, 140, 457, 888, 930, 359, 67, 993, 955, 675, 160, 35, 605, 683, 959, 477, 749, 953, 717, 298, 769, 422, 188, 14, 68, 710, 714, 72, 625, 525, 636, 463, 100, 958, 821, 190, 930, 709, 16, 954, 958, 723, 750, 45, 517, 838, 503, 467, 899, 160, 713, 492, 776, 829, 901, 894, 882, 410, 374, 118, 228, 955, 492, 450, 14, 392, 267, 328, 816, 328, 37, 571, 574, 80, 223, 239, 696, 455, 967, 642, 816, 478, 251, 730, 195, 872, 639, 506, 725, 478, 31, 610, 332, 83, 415, 238, 106, 255, 302, 110, 765, 385, 862, 154, 393, 54, 160, 0, 299, 744, 602, 222, 268, 429, 616, 43, 148, 710, 852, 574, 206, 876, 926, 663, 302, 982, 564, 884, 513, 420, 17, 886, 962, 850, 853, 317, 765, 569, 585, 683, 41, 93, 313, 564, 925, 603, 15, 417, 959, 971, 888, 574, 680, 626, 369, 87, 150, 972, 719, 203, 217, 926, 398, 51, 759, 232, 191, 58, 651, 448, 108, 102, 557, 909, 256, 254, 675, 19, 768, 432, 481, 78, 474, 587, 654, 984, 73, 27, 181, 618, 115, 668, 622, 419, 727, 905, 454, 777, 395, 690, 762, 984, 719, 170, 395, 120, 83, 961, 376, 37, 897, 837, 417, 657, 404, 371, 969, 213, 169, 467, 455, 95, 473, 672, 525, 939, 852, 159, 810, 881, 790, 448, 304, 293, 75, 280, 349, 519, 73, 227, 723, 556, 189, 550, 981, 260, 491, 91, 849, 347, 480, 653, 39, 693, 575, 450, 879, 823, 334, 967, 890, 7, 949, 879, 434, 338, 329, 641, 76, 45, 816, 492, 11, 774, 61, 417, 892, 343, 8, 51, 841, 936, 973, 335, 896, 506, 541, 280, 928, 124, 603, 74, 60, 470, 457, 511, 450, 412, 574, 724, 485, 463, 982, 864, 169, 35, 878, 531, 397, 350, 480, 832, 67, 638, 968, 527, 433, 810, 721, 688, 437, 1000, 482, 147, 366, 528, 406, 239, 522, 181, 209, 427, 222, 243, 169, 322, 342, 35, 917, 72, 229, 99, 926, 885, 923, 707, 875, 105, 145, 258, 131, 1, 668, 34, 585, 651, 647, 5, 638, 279, 228, 869, 991, 659, 265, 673, 1000, 224, 981, 67, 731, 58, 528, 471, 2, 17, 40, 964, 53, 768, 635, 453, 546, 648, 805, 599, 709, 851, 153, 307, 230, 88, 103, 830, 710, 856, 16, 623, 5, 769, 100, 888, 949, 771, 319, 453, 760, 160, 418, 500, 302, 337, 427, 281, 650, 320, 985, 512, 321, 260, 566, 883, 374, 519, 836, 999, 199, 884, 761, 539, 798, 257, 129, 624, 204, 306, 493, 184, 161, 857, 645, 118, 195, 391, 781, 68, 196, 626, 371, 655, 699, 61, 999, 482, 138, 675, 986, 40, 299, 740, 812, 490, 538, 589, 403, 934, 374, 299, 720, 738, 188, 878, 404, 353, 361, 746, 238, 247, 193, 189, 20, 570, 337, 385, 615, 282, 366, 665, 920, 180, 792, 795, 406, 728, 308, 716, 923, 216, 517, 120, 402, 614, 455, 17, 104, 316, 383, 788, 749, 164, 30, 730, 512, 91, 860, 954, 663, 605, 169, 817, 529, 564, 718, 995, 65, 519, 810, 176, 995, 423, 845, 184, 572, 533, 74, 500, 130, 309, 132, 86, 953, 59, 613, 507, 502, 183, 134, 517, 257, 60, 606, 432, 888, 622, 402, 655, 562, 80, 134, 958, 167, 682, 783, 215, 788, 865, 560, 267, 140, 454, 93, 657, 846, 788, 69, 324, 644, 509, 962, 419, 492, 433, 506, 796, 68, 634, 880, 586, 156, 407, 258, 26, 454, 721, 466, 536, 564, 944, 169, 913, 97, 948, 272, 881, 704, 975, 421, 819, 510, 648, 846, 594, 12, 508, 49, 438, 235, 469, 175, 654, 58, 255, 673, 360, 941, 783, 700, 855, 836, 72, 511, 894, 670, 400, 5, 562, 668, 288, 655, 521, 218, 355, 72, 477, 572, 266, 559, 178, 973, 593, 531, 753, 230, 218, 282, 401, 64, 90, 451, 242, 449, 434, 424, 896, 619, 911, 473, 467, 588, 859, 621, 622, 148, 721, 591, 554, 267, 569, 958, 36, 249, 23, 930, 689, 566, 691, 223, 907, 767, 295, 528, 905, 288, 507, 816, 950, 722, 42, 535, 206, 720, 542, 559, 792, 777, 123, 606, 738, 923, 6, 592, 399, 157, 259, 781, 433, 417, 539, 12, 530, 878, 451, 549, 454, 63, 142, 886, 863, 371, 663, 733, 692, 781, 306, 881, 688, 367, 596, 565, 580, 142, 34, 437, 3, 360, 429, 58, 168, 69, 368, 315, 185, 568, 232, 918, 113, 678, 761, 227, 770, 144, 657, 899, 975, 266, 673, 976, 503, 285, 949, 274, 786, 575, 258, 309, 942, 120, 122, 920, 944, 864, 395, 639, 88, 930, 875, 468, 436, 568, 120, 496, 224, 731, 375, 210, 35, 439, 141, 97, 778, 988, 601, 749, 969, 912, 905, 319, 159, 280, 562, 139, 559, 327, 755, 272, 217, 24, 218, 43, 771, 723, 522, 473, 53, 703, 749, 135, 808, 612, 977, 636, 176, 678, 222, 299, 274, 686, 674, 669, 268, 834, 387, 830, 747, 630, 402, 575, 828, 346, 221, 484, 518, 735, 330, 953, 89, 913, 584, 436, 156, 505, 844, 349, 865, 231, 170, 856, 614, 13, 141, 260, 147, 731, 287, 863, 557, 148, 266, 640, 508, 327, 746, 378, 31, 886, 825, 388, 969, 818, 406, 66, 108, 292, 648, 696, 778, 499, 896, 802, 154, 706, 570, 87, 220, 575, 264, 737, 986, 437, 688, 161, 804, 174, 565, 25, 825, 248, 177, 699, 681, 709, 906, 706, 37, 969, 621, 281, 969, 209, 803, 785, 457, 211, 489, 473, 407, 790, 119, 953, 20, 174, 199, 134, 73, 299, 224, 428, 798, 691, 50, 133, 393, 490, 922, 130, 25, 194, 635, 451, 644, 596, 714, 462, 37, 932, 111, 746, 701, 164, 158, 640, 998, 25, 17, 374, 332, 690, 414, 147, 72, 437, 426, 187, 949, 164, 984, 0, 979, 810, 319, 647, 149, 106, 810, 634, 972, 650, 378, 336, 851, 474, 384, 740, 635, 940, 116, 644, 110, 503, 634, 607, 216, 596, 824, 503, 56]\n",
            "[0, 0, 0, 0, 1, 1, 2, 2, 2, 3, 5, 5, 5, 6, 7, 7, 8, 9, 11, 12, 12, 12, 12, 13, 13, 14, 14, 15, 15, 16, 16, 16, 16, 17, 17, 17, 17, 17, 17, 17, 19, 19, 19, 19, 20, 20, 20, 21, 22, 22, 23, 23, 23, 24, 25, 25, 25, 25, 26, 26, 27, 27, 30, 30, 30, 31, 31, 31, 31, 34, 34, 35, 35, 35, 35, 35, 36, 36, 37, 37, 37, 37, 37, 38, 38, 39, 39, 39, 40, 40, 40, 40, 40, 41, 41, 42, 42, 42, 42, 42, 43, 43, 43, 43, 44, 45, 45, 45, 45, 46, 48, 49, 49, 50, 50, 51, 51, 51, 53, 53, 53, 54, 56, 57, 58, 58, 58, 58, 58, 59, 60, 60, 60, 61, 61, 61, 61, 62, 62, 63, 63, 63, 63, 64, 64, 65, 65, 65, 65, 66, 67, 67, 67, 67, 67, 68, 68, 68, 68, 68, 69, 69, 70, 71, 71, 72, 72, 72, 72, 72, 73, 73, 73, 74, 74, 74, 74, 75, 75, 75, 75, 76, 76, 77, 78, 78, 78, 80, 80, 83, 83, 83, 83, 86, 87, 87, 88, 88, 88, 89, 90, 91, 91, 91, 91, 92, 92, 93, 93, 93, 95, 95, 95, 96, 96, 96, 96, 96, 97, 97, 98, 99, 99, 99, 100, 100, 100, 101, 102, 102, 102, 103, 104, 104, 105, 105, 105, 106, 106, 108, 108, 109, 110, 110, 110, 110, 111, 111, 112, 112, 112, 113, 113, 113, 115, 116, 118, 118, 118, 119, 120, 120, 120, 120, 120, 121, 122, 122, 123, 123, 123, 123, 124, 124, 124, 125, 126, 127, 129, 129, 130, 130, 131, 132, 132, 133, 133, 133, 134, 134, 134, 134, 135, 135, 135, 138, 138, 139, 139, 140, 140, 140, 140, 141, 141, 142, 142, 144, 145, 145, 146, 147, 147, 147, 147, 148, 148, 148, 148, 149, 150, 151, 153, 153, 154, 154, 155, 156, 156, 156, 157, 157, 158, 159, 159, 159, 159, 159, 160, 160, 160, 160, 160, 160, 161, 161, 162, 164, 164, 164, 164, 164, 165, 167, 168, 168, 169, 169, 169, 169, 169, 169, 170, 170, 170, 172, 173, 173, 174, 174, 174, 175, 175, 175, 176, 176, 177, 178, 180, 180, 180, 181, 181, 182, 182, 183, 183, 183, 183, 184, 184, 184, 185, 185, 185, 186, 187, 188, 188, 189, 189, 190, 191, 191, 193, 193, 193, 193, 194, 194, 194, 194, 195, 195, 195, 196, 196, 196, 196, 196, 197, 198, 199, 199, 199, 199, 200, 203, 203, 204, 206, 206, 206, 208, 209, 209, 210, 211, 211, 212, 212, 213, 214, 214, 215, 216, 216, 216, 216, 216, 217, 217, 218, 218, 218, 219, 220, 220, 221, 221, 222, 222, 222, 222, 223, 223, 223, 223, 224, 224, 224, 224, 226, 227, 227, 227, 227, 227, 228, 228, 228, 229, 229, 229, 229, 230, 230, 230, 231, 231, 232, 232, 232, 233, 233, 234, 234, 235, 235, 235, 235, 236, 238, 238, 239, 239, 239, 240, 240, 241, 242, 243, 243, 244, 244, 244, 245, 245, 246, 246, 247, 247, 247, 248, 249, 249, 250, 251, 252, 254, 255, 255, 255, 256, 257, 257, 258, 258, 258, 259, 260, 260, 260, 261, 262, 263, 264, 264, 264, 265, 265, 266, 266, 266, 266, 266, 267, 267, 267, 267, 268, 268, 269, 269, 270, 271, 272, 272, 272, 274, 274, 275, 276, 277, 277, 277, 278, 279, 280, 280, 280, 280, 280, 281, 281, 282, 282, 282, 283, 285, 285, 286, 287, 288, 288, 289, 289, 291, 292, 292, 292, 293, 294, 295, 297, 298, 298, 298, 299, 299, 299, 299, 299, 299, 300, 300, 301, 302, 302, 302, 302, 303, 303, 303, 303, 303, 304, 304, 305, 306, 306, 307, 308, 308, 309, 309, 309, 310, 311, 311, 313, 314, 314, 314, 314, 315, 315, 316, 316, 317, 317, 319, 319, 319, 320, 321, 321, 322, 324, 326, 326, 327, 327, 328, 328, 328, 329, 330, 330, 330, 331, 332, 332, 332, 334, 335, 335, 336, 336, 336, 337, 337, 337, 337, 338, 338, 342, 342, 342, 343, 343, 344, 346, 347, 347, 348, 349, 349, 349, 350, 350, 350, 351, 352, 353, 353, 355, 356, 357, 358, 359, 359, 360, 360, 360, 361, 362, 363, 363, 365, 365, 366, 366, 366, 367, 367, 368, 368, 368, 368, 369, 369, 371, 371, 371, 371, 372, 373, 374, 374, 374, 374, 375, 375, 376, 376, 377, 378, 378, 380, 380, 380, 380, 381, 381, 382, 383, 383, 384, 384, 384, 385, 385, 385, 387, 388, 389, 389, 391, 391, 392, 393, 393, 393, 393, 395, 395, 395, 395, 396, 396, 397, 397, 397, 397, 397, 398, 398, 399, 400, 401, 401, 402, 402, 402, 402, 402, 403, 404, 404, 405, 406, 406, 406, 407, 407, 408, 410, 411, 412, 412, 413, 413, 414, 415, 416, 417, 417, 417, 417, 417, 417, 418, 418, 419, 419, 420, 420, 421, 422, 422, 423, 424, 426, 426, 426, 427, 427, 427, 427, 427, 427, 428, 428, 429, 429, 430, 430, 432, 432, 432, 432, 432, 433, 433, 433, 434, 434, 436, 436, 436, 436, 437, 437, 437, 437, 438, 439, 439, 439, 440, 440, 440, 440, 441, 443, 445, 446, 448, 448, 448, 448, 448, 449, 449, 450, 450, 450, 451, 451, 451, 453, 453, 454, 454, 454, 454, 454, 454, 455, 455, 455, 456, 457, 457, 457, 458, 458, 459, 459, 460, 461, 462, 462, 463, 463, 463, 464, 466, 467, 467, 467, 467, 467, 468, 469, 469, 470, 470, 471, 471, 472, 473, 473, 473, 473, 473, 474, 474, 474, 476, 476, 476, 477, 477, 477, 477, 478, 478, 479, 479, 479, 480, 480, 480, 480, 480, 481, 481, 481, 481, 482, 482, 482, 482, 483, 484, 485, 485, 485, 485, 487, 487, 488, 488, 489, 490, 490, 490, 490, 490, 491, 491, 492, 492, 492, 492, 493, 493, 494, 496, 496, 496, 499, 500, 500, 502, 503, 503, 503, 503, 504, 505, 505, 506, 506, 506, 506, 507, 507, 508, 508, 508, 509, 509, 510, 510, 511, 511, 511, 511, 512, 512, 513, 513, 514, 516, 516, 517, 517, 517, 518, 518, 519, 519, 519, 520, 520, 521, 521, 521, 522, 522, 522, 525, 525, 525, 525, 527, 527, 528, 528, 528, 528, 529, 529, 530, 530, 531, 531, 531, 533, 534, 535, 536, 536, 537, 537, 537, 538, 538, 538, 539, 539, 539, 539, 540, 541, 541, 541, 542, 542, 542, 542, 542, 542, 543, 543, 544, 545, 546, 546, 549, 549, 550, 550, 550, 551, 552, 552, 553, 553, 554, 555, 556, 556, 557, 557, 557, 558, 559, 559, 559, 560, 560, 561, 561, 562, 562, 562, 563, 564, 564, 564, 564, 565, 565, 565, 565, 566, 566, 567, 568, 568, 568, 569, 569, 569, 570, 570, 570, 571, 571, 571, 572, 572, 573, 574, 574, 574, 574, 574, 574, 575, 575, 575, 575, 575, 576, 576, 580, 581, 581, 584, 584, 585, 585, 585, 586, 586, 587, 587, 588, 589, 591, 592, 593, 593, 593, 593, 593, 594, 594, 595, 596, 596, 596, 596, 597, 598, 598, 598, 598, 599, 599, 601, 602, 603, 603, 603, 603, 603, 604, 605, 605, 605, 606, 606, 607, 609, 610, 612, 612, 613, 613, 613, 613, 614, 614, 615, 616, 616, 618, 618, 618, 619, 620, 621, 621, 621, 622, 622, 622, 622, 623, 624, 624, 625, 625, 626, 626, 627, 627, 629, 629, 630, 633, 633, 633, 634, 634, 634, 634, 635, 635, 635, 636, 636, 638, 638, 638, 639, 639, 640, 640, 640, 641, 641, 641, 642, 644, 644, 644, 644, 645, 646, 647, 647, 648, 648, 648, 649, 649, 650, 650, 651, 651, 652, 652, 653, 653, 654, 654, 655, 655, 655, 655, 656, 656, 656, 657, 657, 657, 657, 657, 657, 658, 659, 660, 660, 660, 662, 663, 663, 663, 663, 663, 663, 663, 665, 665, 666, 666, 667, 667, 668, 668, 668, 668, 669, 670, 670, 671, 671, 671, 672, 672, 673, 673, 673, 673, 674, 674, 675, 675, 675, 675, 678, 678, 680, 681, 681, 682, 682, 682, 682, 683, 683, 683, 683, 683, 684, 684, 686, 688, 688, 688, 689, 689, 690, 690, 690, 690, 690, 691, 691, 692, 693, 696, 696, 696, 697, 698, 698, 699, 699, 699, 700, 701, 701, 703, 703, 704, 704, 704, 704, 704, 704, 705, 706, 706, 707, 707, 708, 709, 709, 709, 710, 710, 710, 711, 711, 712, 713, 713, 713, 714, 714, 714, 714, 716, 717, 717, 717, 717, 717, 717, 717, 718, 719, 719, 719, 719, 719, 720, 720, 721, 721, 721, 722, 722, 723, 723, 723, 723, 724, 724, 725, 725, 725, 727, 727, 727, 728, 729, 730, 730, 731, 731, 731, 732, 733, 733, 733, 734, 735, 735, 737, 738, 738, 738, 738, 739, 739, 739, 739, 740, 740, 740, 740, 744, 744, 744, 744, 744, 746, 746, 746, 746, 747, 749, 749, 749, 749, 750, 750, 752, 752, 752, 753, 753, 753, 754, 755, 755, 755, 757, 757, 757, 757, 759, 759, 760, 760, 760, 761, 761, 761, 761, 762, 762, 764, 765, 765, 765, 766, 766, 766, 767, 767, 768, 768, 769, 769, 770, 771, 771, 771, 773, 774, 774, 776, 777, 777, 777, 777, 777, 777, 778, 778, 778, 778, 778, 778, 781, 781, 781, 781, 783, 783, 783, 784, 784, 785, 785, 786, 787, 787, 787, 788, 788, 788, 788, 788, 789, 790, 790, 790, 791, 791, 791, 792, 792, 793, 795, 795, 796, 796, 796, 796, 797, 798, 798, 798, 798, 799, 800, 801, 802, 803, 803, 803, 804, 804, 805, 805, 806, 806, 807, 808, 808, 808, 808, 810, 810, 810, 810, 810, 810, 812, 813, 813, 816, 816, 816, 816, 817, 817, 818, 819, 820, 821, 821, 823, 823, 824, 824, 824, 825, 825, 826, 826, 826, 828, 828, 829, 829, 830, 830, 832, 832, 834, 834, 835, 835, 836, 836, 837, 837, 838, 838, 840, 840, 840, 841, 844, 845, 845, 845, 846, 846, 847, 847, 847, 847, 848, 849, 849, 849, 850, 850, 850, 851, 851, 851, 852, 852, 852, 853, 854, 854, 854, 854, 855, 855, 856, 856, 857, 857, 857, 858, 858, 859, 860, 861, 862, 862, 862, 863, 863, 864, 864, 865, 865, 866, 867, 867, 868, 869, 872, 872, 874, 875, 875, 875, 876, 876, 876, 877, 878, 878, 878, 879, 879, 880, 881, 881, 881, 882, 883, 883, 883, 884, 884, 884, 885, 885, 886, 886, 886, 887, 888, 888, 888, 888, 888, 888, 889, 889, 890, 891, 891, 891, 892, 893, 893, 894, 894, 894, 894, 895, 896, 896, 896, 897, 897, 898, 898, 899, 899, 899, 901, 901, 901, 902, 903, 904, 904, 904, 905, 905, 905, 906, 906, 906, 907, 907, 907, 908, 909, 909, 909, 911, 912, 912, 912, 913, 913, 913, 913, 914, 915, 917, 917, 918, 918, 918, 918, 919, 920, 920, 920, 921, 921, 922, 923, 923, 923, 923, 925, 925, 926, 926, 926, 926, 928, 928, 929, 930, 930, 930, 930, 930, 930, 931, 932, 932, 933, 933, 934, 934, 934, 934, 935, 935, 935, 936, 939, 940, 941, 941, 941, 941, 942, 943, 944, 944, 945, 945, 945, 945, 946, 948, 948, 948, 948, 949, 949, 949, 949, 949, 950, 950, 951, 951, 952, 952, 952, 953, 953, 953, 953, 954, 954, 954, 955, 955, 955, 956, 958, 958, 958, 958, 958, 958, 959, 959, 959, 961, 961, 961, 962, 962, 962, 964, 964, 964, 965, 965, 966, 967, 967, 967, 967, 967, 968, 969, 969, 969, 969, 969, 969, 971, 971, 972, 972, 972, 972, 973, 973, 973, 973, 974, 974, 975, 975, 976, 977, 977, 978, 978, 979, 979, 980, 980, 980, 981, 981, 982, 982, 982, 983, 984, 984, 984, 984, 984, 985, 986, 986, 986, 986, 987, 987, 988, 989, 989, 989, 990, 991, 992, 993, 993, 994, 995, 995, 995, 997, 997, 998, 998, 998, 998, 999, 999, 999, 999, 1000, 1000, 1000]\n",
            "[1000, 1000, 1000, 999, 999, 999, 999, 998, 998, 998, 998, 997, 997, 995, 995, 995, 994, 993, 993, 992, 991, 990, 989, 989, 989, 988, 987, 987, 986, 986, 986, 986, 985, 984, 984, 984, 984, 984, 983, 982, 982, 982, 981, 981, 980, 980, 980, 979, 979, 978, 978, 977, 977, 976, 975, 975, 974, 974, 973, 973, 973, 973, 972, 972, 972, 972, 971, 971, 969, 969, 969, 969, 969, 969, 968, 967, 967, 967, 967, 967, 966, 965, 965, 964, 964, 964, 962, 962, 962, 961, 961, 961, 959, 959, 959, 958, 958, 958, 958, 958, 958, 956, 955, 955, 955, 954, 954, 954, 953, 953, 953, 953, 952, 952, 952, 951, 951, 950, 950, 949, 949, 949, 949, 949, 948, 948, 948, 948, 946, 945, 945, 945, 945, 944, 944, 943, 942, 941, 941, 941, 941, 940, 939, 936, 935, 935, 935, 934, 934, 934, 934, 933, 933, 932, 932, 931, 930, 930, 930, 930, 930, 930, 929, 928, 928, 926, 926, 926, 926, 925, 925, 923, 923, 923, 923, 922, 921, 921, 920, 920, 920, 919, 918, 918, 918, 918, 917, 917, 915, 914, 913, 913, 913, 913, 912, 912, 912, 911, 909, 909, 909, 908, 907, 907, 907, 906, 906, 906, 905, 905, 905, 904, 904, 904, 903, 902, 901, 901, 901, 899, 899, 899, 898, 898, 897, 897, 896, 896, 896, 895, 894, 894, 894, 894, 893, 893, 892, 891, 891, 891, 890, 889, 889, 888, 888, 888, 888, 888, 888, 887, 886, 886, 886, 885, 885, 884, 884, 884, 883, 883, 883, 882, 881, 881, 881, 880, 879, 879, 878, 878, 878, 877, 876, 876, 876, 875, 875, 875, 874, 872, 872, 869, 868, 867, 867, 866, 865, 865, 864, 864, 863, 863, 862, 862, 862, 861, 860, 859, 858, 858, 857, 857, 857, 856, 856, 855, 855, 854, 854, 854, 854, 853, 852, 852, 852, 851, 851, 851, 850, 850, 850, 849, 849, 849, 848, 847, 847, 847, 847, 846, 846, 845, 845, 845, 844, 841, 840, 840, 840, 838, 838, 837, 837, 836, 836, 835, 835, 834, 834, 832, 832, 830, 830, 829, 829, 828, 828, 826, 826, 826, 825, 825, 824, 824, 824, 823, 823, 821, 821, 820, 819, 818, 817, 817, 816, 816, 816, 816, 813, 813, 812, 810, 810, 810, 810, 810, 810, 808, 808, 808, 808, 807, 806, 806, 805, 805, 804, 804, 803, 803, 803, 802, 801, 800, 799, 798, 798, 798, 798, 797, 796, 796, 796, 796, 795, 795, 793, 792, 792, 791, 791, 791, 790, 790, 790, 789, 788, 788, 788, 788, 788, 787, 787, 787, 786, 785, 785, 784, 784, 783, 783, 783, 781, 781, 781, 781, 778, 778, 778, 778, 778, 778, 777, 777, 777, 777, 777, 777, 776, 774, 774, 773, 771, 771, 771, 770, 769, 769, 768, 768, 767, 767, 766, 766, 766, 765, 765, 765, 764, 762, 762, 761, 761, 761, 761, 760, 760, 760, 759, 759, 757, 757, 757, 757, 755, 755, 755, 754, 753, 753, 753, 752, 752, 752, 750, 750, 749, 749, 749, 749, 747, 746, 746, 746, 746, 744, 744, 744, 744, 744, 740, 740, 740, 740, 739, 739, 739, 739, 738, 738, 738, 738, 737, 735, 735, 734, 733, 733, 733, 732, 731, 731, 731, 730, 730, 729, 728, 727, 727, 727, 725, 725, 725, 724, 724, 723, 723, 723, 723, 722, 722, 721, 721, 721, 720, 720, 719, 719, 719, 719, 719, 718, 717, 717, 717, 717, 717, 717, 717, 716, 714, 714, 714, 714, 713, 713, 713, 712, 711, 711, 710, 710, 710, 709, 709, 709, 708, 707, 707, 706, 706, 705, 704, 704, 704, 704, 704, 704, 703, 703, 701, 701, 700, 699, 699, 699, 698, 698, 697, 696, 696, 696, 693, 692, 691, 691, 690, 690, 690, 690, 690, 689, 689, 688, 688, 688, 686, 684, 684, 683, 683, 683, 683, 683, 682, 682, 682, 682, 681, 681, 680, 678, 678, 675, 675, 675, 675, 674, 674, 673, 673, 673, 673, 672, 672, 671, 671, 671, 670, 670, 669, 668, 668, 668, 668, 667, 667, 666, 666, 665, 665, 663, 663, 663, 663, 663, 663, 663, 662, 660, 660, 660, 659, 658, 657, 657, 657, 657, 657, 657, 656, 656, 656, 655, 655, 655, 655, 654, 654, 653, 653, 652, 652, 651, 651, 650, 650, 649, 649, 648, 648, 648, 647, 647, 646, 645, 644, 644, 644, 644, 642, 641, 641, 641, 640, 640, 640, 639, 639, 638, 638, 638, 636, 636, 635, 635, 635, 634, 634, 634, 634, 633, 633, 633, 630, 629, 629, 627, 627, 626, 626, 625, 625, 624, 624, 623, 622, 622, 622, 622, 621, 621, 621, 620, 619, 618, 618, 618, 616, 616, 615, 614, 614, 613, 613, 613, 613, 612, 612, 610, 609, 607, 606, 606, 605, 605, 605, 604, 603, 603, 603, 603, 603, 602, 601, 599, 599, 598, 598, 598, 598, 597, 596, 596, 596, 596, 595, 594, 594, 593, 593, 593, 593, 593, 592, 591, 589, 588, 587, 587, 586, 586, 585, 585, 585, 584, 584, 581, 581, 580, 576, 576, 575, 575, 575, 575, 575, 574, 574, 574, 574, 574, 574, 573, 572, 572, 571, 571, 571, 570, 570, 570, 569, 569, 569, 568, 568, 568, 567, 566, 566, 565, 565, 565, 565, 564, 564, 564, 564, 563, 562, 562, 562, 561, 561, 560, 560, 559, 559, 559, 558, 557, 557, 557, 556, 556, 555, 554, 553, 553, 552, 552, 551, 550, 550, 550, 549, 549, 546, 546, 545, 544, 543, 543, 542, 542, 542, 542, 542, 542, 541, 541, 541, 540, 539, 539, 539, 539, 538, 538, 538, 537, 537, 537, 536, 536, 535, 534, 533, 531, 531, 531, 530, 530, 529, 529, 528, 528, 528, 528, 527, 527, 525, 525, 525, 525, 522, 522, 522, 521, 521, 521, 520, 520, 519, 519, 519, 518, 518, 517, 517, 517, 516, 516, 514, 513, 513, 512, 512, 511, 511, 511, 511, 510, 510, 509, 509, 508, 508, 508, 507, 507, 506, 506, 506, 506, 505, 505, 504, 503, 503, 503, 503, 502, 500, 500, 499, 496, 496, 496, 494, 493, 493, 492, 492, 492, 492, 491, 491, 490, 490, 490, 490, 490, 489, 488, 488, 487, 487, 485, 485, 485, 485, 484, 483, 482, 482, 482, 482, 481, 481, 481, 481, 480, 480, 480, 480, 480, 479, 479, 479, 478, 478, 477, 477, 477, 477, 476, 476, 476, 474, 474, 474, 473, 473, 473, 473, 473, 472, 471, 471, 470, 470, 469, 469, 468, 467, 467, 467, 467, 467, 466, 464, 463, 463, 463, 462, 462, 461, 460, 459, 459, 458, 458, 457, 457, 457, 456, 455, 455, 455, 454, 454, 454, 454, 454, 454, 453, 453, 451, 451, 451, 450, 450, 450, 449, 449, 448, 448, 448, 448, 448, 446, 445, 443, 441, 440, 440, 440, 440, 439, 439, 439, 438, 437, 437, 437, 437, 436, 436, 436, 436, 434, 434, 433, 433, 433, 432, 432, 432, 432, 432, 430, 430, 429, 429, 428, 428, 427, 427, 427, 427, 427, 427, 426, 426, 426, 424, 423, 422, 422, 421, 420, 420, 419, 419, 418, 418, 417, 417, 417, 417, 417, 417, 416, 415, 414, 413, 413, 412, 412, 411, 410, 408, 407, 407, 406, 406, 406, 405, 404, 404, 403, 402, 402, 402, 402, 402, 401, 401, 400, 399, 398, 398, 397, 397, 397, 397, 397, 396, 396, 395, 395, 395, 395, 393, 393, 393, 393, 392, 391, 391, 389, 389, 388, 387, 385, 385, 385, 384, 384, 384, 383, 383, 382, 381, 381, 380, 380, 380, 380, 378, 378, 377, 376, 376, 375, 375, 374, 374, 374, 374, 373, 372, 371, 371, 371, 371, 369, 369, 368, 368, 368, 368, 367, 367, 366, 366, 366, 365, 365, 363, 363, 362, 361, 360, 360, 360, 359, 359, 358, 357, 356, 355, 353, 353, 352, 351, 350, 350, 350, 349, 349, 349, 348, 347, 347, 346, 344, 343, 343, 342, 342, 342, 338, 338, 337, 337, 337, 337, 336, 336, 336, 335, 335, 334, 332, 332, 332, 331, 330, 330, 330, 329, 328, 328, 328, 327, 327, 326, 326, 324, 322, 321, 321, 320, 319, 319, 319, 317, 317, 316, 316, 315, 315, 314, 314, 314, 314, 313, 311, 311, 310, 309, 309, 309, 308, 308, 307, 306, 306, 305, 304, 304, 303, 303, 303, 303, 303, 302, 302, 302, 302, 301, 300, 300, 299, 299, 299, 299, 299, 299, 298, 298, 298, 297, 295, 294, 293, 292, 292, 292, 291, 289, 289, 288, 288, 287, 286, 285, 285, 283, 282, 282, 282, 281, 281, 280, 280, 280, 280, 280, 279, 278, 277, 277, 277, 276, 275, 274, 274, 272, 272, 272, 271, 270, 269, 269, 268, 268, 267, 267, 267, 267, 266, 266, 266, 266, 266, 265, 265, 264, 264, 264, 263, 262, 261, 260, 260, 260, 259, 258, 258, 258, 257, 257, 256, 255, 255, 255, 254, 252, 251, 250, 249, 249, 248, 247, 247, 247, 246, 246, 245, 245, 244, 244, 244, 243, 243, 242, 241, 240, 240, 239, 239, 239, 238, 238, 236, 235, 235, 235, 235, 234, 234, 233, 233, 232, 232, 232, 231, 231, 230, 230, 230, 229, 229, 229, 229, 228, 228, 228, 227, 227, 227, 227, 227, 226, 224, 224, 224, 224, 223, 223, 223, 223, 222, 222, 222, 222, 221, 221, 220, 220, 219, 218, 218, 218, 217, 217, 216, 216, 216, 216, 216, 215, 214, 214, 213, 212, 212, 211, 211, 210, 209, 209, 208, 206, 206, 206, 204, 203, 203, 200, 199, 199, 199, 199, 198, 197, 196, 196, 196, 196, 196, 195, 195, 195, 194, 194, 194, 194, 193, 193, 193, 193, 191, 191, 190, 189, 189, 188, 188, 187, 186, 185, 185, 185, 184, 184, 184, 183, 183, 183, 183, 182, 182, 181, 181, 180, 180, 180, 178, 177, 176, 176, 175, 175, 175, 174, 174, 174, 173, 173, 172, 170, 170, 170, 169, 169, 169, 169, 169, 169, 168, 168, 167, 165, 164, 164, 164, 164, 164, 162, 161, 161, 160, 160, 160, 160, 160, 160, 159, 159, 159, 159, 159, 158, 157, 157, 156, 156, 156, 155, 154, 154, 153, 153, 151, 150, 149, 148, 148, 148, 148, 147, 147, 147, 147, 146, 145, 145, 144, 142, 142, 141, 141, 140, 140, 140, 140, 139, 139, 138, 138, 135, 135, 135, 134, 134, 134, 134, 133, 133, 133, 132, 132, 131, 130, 130, 129, 129, 127, 126, 125, 124, 124, 124, 123, 123, 123, 123, 122, 122, 121, 120, 120, 120, 120, 120, 119, 118, 118, 118, 116, 115, 113, 113, 113, 112, 112, 112, 111, 111, 110, 110, 110, 110, 109, 108, 108, 106, 106, 105, 105, 105, 104, 104, 103, 102, 102, 102, 101, 100, 100, 100, 99, 99, 99, 98, 97, 97, 96, 96, 96, 96, 96, 95, 95, 95, 93, 93, 93, 92, 92, 91, 91, 91, 91, 90, 89, 88, 88, 88, 87, 87, 86, 83, 83, 83, 83, 80, 80, 78, 78, 78, 77, 76, 76, 75, 75, 75, 75, 74, 74, 74, 74, 73, 73, 73, 72, 72, 72, 72, 72, 71, 71, 70, 69, 69, 68, 68, 68, 68, 68, 67, 67, 67, 67, 67, 66, 65, 65, 65, 65, 64, 64, 63, 63, 63, 63, 62, 62, 61, 61, 61, 61, 60, 60, 60, 59, 58, 58, 58, 58, 58, 57, 56, 54, 53, 53, 53, 51, 51, 51, 50, 50, 49, 49, 48, 46, 45, 45, 45, 45, 44, 43, 43, 43, 43, 42, 42, 42, 42, 42, 41, 41, 40, 40, 40, 40, 40, 39, 39, 39, 38, 38, 37, 37, 37, 37, 37, 36, 36, 35, 35, 35, 35, 35, 34, 34, 31, 31, 31, 31, 30, 30, 30, 27, 27, 26, 26, 25, 25, 25, 25, 24, 23, 23, 23, 22, 22, 21, 20, 20, 20, 19, 19, 19, 19, 17, 17, 17, 17, 17, 17, 17, 16, 16, 16, 16, 15, 15, 14, 14, 13, 13, 12, 12, 12, 12, 11, 9, 8, 7, 7, 6, 5, 5, 5, 3, 2, 2, 2, 1, 1, 0, 0, 0, 0]\n"
          ]
        }
      ],
      "source": [
        "my_reversed_sorted_list = list(reversed(my_sorted_list)) # TODO\n",
        "\n",
        "print(list_of_randoms)\n",
        "print(my_sorted_list)\n",
        "print(my_reversed_sorted_list)"
      ]
    },
    {
      "cell_type": "markdown",
      "metadata": {
        "id": "zIJjJ8rx_W8s"
      },
      "source": [
        "### With a sorted list we can more easily print the 5 smallest and 5 largest elements\n"
      ]
    },
    {
      "cell_type": "code",
      "execution_count": 93,
      "metadata": {
        "id": "ytoCAy4p_dCZ"
      },
      "outputs": [
        {
          "name": "stdout",
          "output_type": "stream",
          "text": [
            "[0, 0, 0, 0, 1] [999, 999, 1000, 1000, 1000]\n"
          ]
        }
      ],
      "source": [
        "print(my_sorted_list[ :5], my_sorted_list[-5: ])"
      ]
    },
    {
      "cell_type": "markdown",
      "metadata": {},
      "source": [
        "### :W:T:F:?:\n",
        "\n",
        "### Slicing\n",
        "\n",
        "Python has a built-in mechanism for getting sub-sections of a list called *slicing*.\n",
        "\n",
        "Instead of a single index, we specify two values in the square bracket, separated by a `:`, to specify where our slice starts and ends:\n",
        "\n",
        "<img src=\"./imgs/slicing.jpg\" width=\"700px\" />\n",
        "\n",
        "One **VERY** important thing to remember is that the second index in the bracket is **NOT** included in the slice."
      ]
    },
    {
      "cell_type": "code",
      "execution_count": 94,
      "metadata": {},
      "outputs": [
        {
          "data": {
            "text/plain": [
              "([6, 10, 3, 5, 4, 8, 6, 7, 12, 11, 0, 1, 8, 5, 2, 7, 0, 0, 1, 11],\n",
              " [6, 10, 3, 5, 4])"
            ]
          },
          "execution_count": 94,
          "metadata": {},
          "output_type": "execute_result"
        }
      ],
      "source": [
        "my_list = [random.randint(0, 12) for i in range(0, 20)]\n",
        "my_list, my_list[0 : 5]"
      ]
    },
    {
      "cell_type": "markdown",
      "metadata": {},
      "source": [
        "As another example:  \n",
        "`my_list[4 : 10]` would be used to access $6$ elements starting at position $4$, so ...\n",
        "<br>elements $4$ - $9$ on the list. The second index in the slice, $10$, is not included."
      ]
    },
    {
      "cell_type": "code",
      "execution_count": 101,
      "metadata": {},
      "outputs": [
        {
          "data": {
            "text/plain": [
              "[4, 8, 6, 7, 12, 11]"
            ]
          },
          "execution_count": 101,
          "metadata": {},
          "output_type": "execute_result"
        }
      ],
      "source": [
        "my_list[4 : 10]"
      ]
    },
    {
      "cell_type": "markdown",
      "metadata": {},
      "source": [
        "And, Python being Python, it tries to be smart and keep us from unnecessary typing:\n",
        "- if the first index is blank, the slice will start at the first element \n",
        "- if the second index is blank, the slice will go until the end of the list"
      ]
    },
    {
      "cell_type": "code",
      "execution_count": 102,
      "metadata": {},
      "outputs": [
        {
          "data": {
            "text/plain": [
              "([6, 10, 3, 5, 4, 8, 6, 7, 12, 11, 0, 1, 8, 5, 2, 7, 0, 0, 1, 11],\n",
              " [6, 10, 3, 5, 4],\n",
              " [6, 10, 3, 5, 4])"
            ]
          },
          "execution_count": 102,
          "metadata": {},
          "output_type": "execute_result"
        }
      ],
      "source": [
        "my_list, my_list[0 : 5], my_list[ :5]"
      ]
    },
    {
      "cell_type": "code",
      "execution_count": 103,
      "metadata": {},
      "outputs": [
        {
          "data": {
            "text/plain": [
              "([7, 0, 0, 1, 11], [7, 0, 0, 1, 11])"
            ]
          },
          "execution_count": 103,
          "metadata": {},
          "output_type": "execute_result"
        }
      ],
      "source": [
        "my_list[15 : 20], my_list[15: ]"
      ]
    },
    {
      "cell_type": "markdown",
      "metadata": {},
      "source": [
        "We can use negative indexes to slice from the back:\n",
        "\n",
        "`a_list[-5 : len(a_list)]` would grab the last 5 elements from the list `my_list`,\n",
        "<br>but this can be simplified with `a_list[-5: ]`."
      ]
    },
    {
      "cell_type": "code",
      "execution_count": 104,
      "metadata": {},
      "outputs": [
        {
          "data": {
            "text/plain": [
              "([7, 0, 0, 1, 11], [7, 0, 0, 1, 11])"
            ]
          },
          "execution_count": 104,
          "metadata": {},
          "output_type": "execute_result"
        }
      ],
      "source": [
        "my_list[-5 : len(my_list)], my_list[-5: ]"
      ]
    },
    {
      "cell_type": "markdown",
      "metadata": {},
      "source": [
        "### How would we get the 5 items in the center?"
      ]
    },
    {
      "cell_type": "code",
      "execution_count": 143,
      "metadata": {},
      "outputs": [
        {
          "name": "stdout",
          "output_type": "stream",
          "text": [
            "10\n"
          ]
        },
        {
          "data": {
            "text/plain": [
              "[7, 12, 11, 0, 1]"
            ]
          },
          "execution_count": 143,
          "metadata": {},
          "output_type": "execute_result"
        }
      ],
      "source": [
        "center_index = 0 # TODO\n",
        "center_index = int(len(my_list) / 2)\n",
        "\n",
        "print(center_index)\n",
        "\n",
        "center_5 = [] # TODO: center items\n",
        "if center_index % 2 == 0:\n",
        "    center_5 = my_list[center_index - 3 : center_index + 2]\n",
        "else:\n",
        "    center_5 = my_list[center_index - 2 : center_index + 2]\n",
        "\n",
        "center_5"
      ]
    },
    {
      "cell_type": "markdown",
      "metadata": {},
      "source": [
        "### This should make more sense now:"
      ]
    },
    {
      "cell_type": "code",
      "execution_count": null,
      "metadata": {},
      "outputs": [],
      "source": [
        "my_sorted_list[ :5], my_sorted_list[-5: ]"
      ]
    },
    {
      "cell_type": "markdown",
      "metadata": {},
      "source": [
        "## Objects"
      ]
    },
    {
      "cell_type": "markdown",
      "metadata": {},
      "source": [
        "### Creating objects"
      ]
    },
    {
      "cell_type": "code",
      "execution_count": 106,
      "metadata": {},
      "outputs": [
        {
          "data": {
            "text/plain": [
              "{'name': 'thiago',\n",
              " 'id': 8114,\n",
              " 'zip': 11001,\n",
              " 'grades': [90, 80, 60],\n",
              " 'attendance': [True, True, False, True, True],\n",
              " 'final grade': 'A'}"
            ]
          },
          "execution_count": 106,
          "metadata": {},
          "output_type": "execute_result"
        }
      ],
      "source": [
        "my_info = {\n",
        "  \"name\": \"thiago\",\n",
        "  \"id\": 8114,\n",
        "  \"zip\": 11001,\n",
        "  \"grades\": [90, 80, 60],\n",
        "  \"attendance\": [True, True, False, True, True],\n",
        "  \"final grade\": \"A\"\n",
        "}\n",
        "my_info"
      ]
    },
    {
      "cell_type": "markdown",
      "metadata": {},
      "source": [
        "### Accessing values at specific keys"
      ]
    },
    {
      "cell_type": "code",
      "execution_count": 107,
      "metadata": {},
      "outputs": [
        {
          "data": {
            "text/plain": [
              "('thiago', [90, 80, 60])"
            ]
          },
          "execution_count": 107,
          "metadata": {},
          "output_type": "execute_result"
        }
      ],
      "source": [
        "my_info[\"name\"], my_info[\"grades\"]"
      ]
    },
    {
      "cell_type": "markdown",
      "metadata": {},
      "source": [
        "### Modifying and Adding values"
      ]
    },
    {
      "cell_type": "code",
      "execution_count": 108,
      "metadata": {},
      "outputs": [
        {
          "data": {
            "text/plain": [
              "{'name': 'thiago',\n",
              " 'id': 8114,\n",
              " 'zip': 11202,\n",
              " 'grades': [90, 80, 60],\n",
              " 'attendance': [True, True, False, True, True],\n",
              " 'final grade': 'A',\n",
              " 'course': 9103,\n",
              " 'section': 'H'}"
            ]
          },
          "execution_count": 108,
          "metadata": {},
          "output_type": "execute_result"
        }
      ],
      "source": [
        "my_info[\"zip\"] = 11202\n",
        "my_info[\"course\"] = 9103\n",
        "my_info[\"section\"] = \"H\"\n",
        "my_info"
      ]
    },
    {
      "cell_type": "markdown",
      "metadata": {},
      "source": [
        "### Iterating over keys, values and items\n",
        "\n",
        "<img src=\"./imgs/objects.jpg\" width=\"500px\" />"
      ]
    },
    {
      "cell_type": "code",
      "execution_count": 119,
      "metadata": {},
      "outputs": [
        {
          "name": "stdout",
          "output_type": "stream",
          "text": [
            "name\n",
            "id\n",
            "zip\n",
            "grades\n",
            "attendance\n",
            "final grade\n",
            "course\n",
            "section\n",
            "\n",
            "thiago\n",
            "8114\n",
            "11202\n",
            "[90, 80, 60]\n",
            "[True, True, False, True, True]\n",
            "A\n",
            "9103\n",
            "H\n",
            "\n",
            "name thiago\n",
            "id 8114\n",
            "zip 11202\n",
            "grades [90, 80, 60]\n",
            "attendance [True, True, False, True, True]\n",
            "final grade A\n",
            "course 9103\n",
            "section H\n"
          ]
        }
      ],
      "source": [
        "# TODO use my_info.keys(), .values() and .items() to print object\n",
        "\n",
        "for k in my_info.keys():\n",
        "    print(k)\n",
        "print()\n",
        "\n",
        "for k in my_info.values():\n",
        "    print(k)\n",
        "print()\n",
        "\n",
        "for k, v in my_info.items():\n",
        "    print(k, v)"
      ]
    },
    {
      "cell_type": "markdown",
      "metadata": {},
      "source": [
        "## List of objects\n",
        "\n",
        "### Create a list of 10 objects with random heights and brooklyn zip codes.\n",
        "\n",
        "```python\n",
        "my_data = [\n",
        "  {\"height\": [60, 70], \"zip\": [11200, 11250]},\n",
        "  {\"height\": [60, 70], \"zip\": [11200, 11250]},\n",
        "  {\"height\": [60, 70], \"zip\": [11200, 11250]},\n",
        "  ...\n",
        "]\n",
        "```"
      ]
    },
    {
      "cell_type": "code",
      "execution_count": 121,
      "metadata": {},
      "outputs": [
        {
          "data": {
            "text/plain": [
              "[{'height': 63, 'zip': 11234},\n",
              " {'height': 69, 'zip': 11235},\n",
              " {'height': 62, 'zip': 11206},\n",
              " {'height': 64, 'zip': 11215},\n",
              " {'height': 61, 'zip': 11240},\n",
              " {'height': 62, 'zip': 11209},\n",
              " {'height': 62, 'zip': 11234},\n",
              " {'height': 60, 'zip': 11241},\n",
              " {'height': 66, 'zip': 11227},\n",
              " {'height': 60, 'zip': 11232}]"
            ]
          },
          "execution_count": 121,
          "metadata": {},
          "output_type": "execute_result"
        }
      ],
      "source": [
        "my_data = []\n",
        "# TODO: create list of random objects\n",
        "for cnt in range(10):\n",
        "    obj = {\n",
        "        \"height\": random.randint(60, 70),\n",
        "        \"zip\": random.randint(11200, 11250)\n",
        "    }\n",
        "    my_data.append(obj)\n",
        "\n",
        "my_data"
      ]
    },
    {
      "cell_type": "markdown",
      "metadata": {},
      "source": [
        "### Let's add a list of 3 grades for each member of the list and another item with their computed average"
      ]
    },
    {
      "cell_type": "code",
      "execution_count": 122,
      "metadata": {},
      "outputs": [
        {
          "data": {
            "text/plain": [
              "[{'height': 63, 'zip': 11234, 'grades': [100, 90, 94]},\n",
              " {'height': 69, 'zip': 11235, 'grades': [80, 82, 80]},\n",
              " {'height': 62, 'zip': 11206, 'grades': [98, 83, 97]},\n",
              " {'height': 64, 'zip': 11215, 'grades': [97, 97, 77]},\n",
              " {'height': 61, 'zip': 11240, 'grades': [88, 71, 71]},\n",
              " {'height': 62, 'zip': 11209, 'grades': [87, 94, 77]},\n",
              " {'height': 62, 'zip': 11234, 'grades': [96, 70, 90]},\n",
              " {'height': 60, 'zip': 11241, 'grades': [87, 84, 97]},\n",
              " {'height': 66, 'zip': 11227, 'grades': [89, 83, 96]},\n",
              " {'height': 60, 'zip': 11232, 'grades': [100, 84, 93]}]"
            ]
          },
          "execution_count": 122,
          "metadata": {},
          "output_type": "execute_result"
        }
      ],
      "source": [
        "# TODO: first, add grade list to objects\n",
        "for obj in my_data:\n",
        "    obj[\"grades\"] = [random.randint(70,100) for  cnt in range(3)]\n",
        "\n",
        "my_data"
      ]
    },
    {
      "cell_type": "markdown",
      "metadata": {},
      "source": [
        "### Average\n",
        "\n",
        "<img src=\"./imgs/average00.jpg\" width=\"500px\" />\n",
        "\n",
        "<img src=\"./imgs/average01.jpg\" width=\"500px\" />"
      ]
    },
    {
      "cell_type": "code",
      "execution_count": 129,
      "metadata": {},
      "outputs": [
        {
          "data": {
            "text/plain": [
              "[{'height': 63, 'zip': 11234, 'grades': [100, 90, 94], 'avg': 94.7},\n",
              " {'height': 69, 'zip': 11235, 'grades': [80, 82, 80], 'avg': 80.7},\n",
              " {'height': 62, 'zip': 11206, 'grades': [98, 83, 97], 'avg': 92.7},\n",
              " {'height': 64, 'zip': 11215, 'grades': [97, 97, 77], 'avg': 90.3},\n",
              " {'height': 61, 'zip': 11240, 'grades': [88, 71, 71], 'avg': 76.7},\n",
              " {'height': 62, 'zip': 11209, 'grades': [87, 94, 77], 'avg': 86.0},\n",
              " {'height': 62, 'zip': 11234, 'grades': [96, 70, 90], 'avg': 85.3},\n",
              " {'height': 60, 'zip': 11241, 'grades': [87, 84, 97], 'avg': 89.3},\n",
              " {'height': 66, 'zip': 11227, 'grades': [89, 83, 96], 'avg': 89.3},\n",
              " {'height': 60, 'zip': 11232, 'grades': [100, 84, 93], 'avg': 92.3}]"
            ]
          },
          "execution_count": 129,
          "metadata": {},
          "output_type": "execute_result"
        }
      ],
      "source": [
        "# TODO: compute and store averages\n",
        "\n",
        "for obj in my_data:\n",
        "    obj[\"avg\"] = round(sum(obj[\"grades\"]) / len(obj[\"grades\"]), 1)\n",
        "\n",
        "my_data"
      ]
    },
    {
      "cell_type": "markdown",
      "metadata": {},
      "source": [
        "### Get highest and lowest average heights\n",
        "\n",
        "First, get all heights, then use `min()`/`max()`"
      ]
    },
    {
      "cell_type": "code",
      "execution_count": 145,
      "metadata": {},
      "outputs": [
        {
          "data": {
            "text/plain": [
              "(60, 69)"
            ]
          },
          "execution_count": 145,
          "metadata": {},
          "output_type": "execute_result"
        }
      ],
      "source": [
        "averages = []\n",
        "for obj in my_data:\n",
        "    averages.append(obj[\"height\"])\n",
        "min(averages), max(averages)"
      ]
    },
    {
      "cell_type": "markdown",
      "metadata": {},
      "source": [
        "### Sort by key values\n",
        "\n",
        "For example, sort objects by average grade.\n",
        "\n",
        "We could first get all the average grades and then sort the new list:"
      ]
    },
    {
      "cell_type": "code",
      "execution_count": 144,
      "metadata": {},
      "outputs": [
        {
          "name": "stdout",
          "output_type": "stream",
          "text": [
            "original:\n",
            " [94.7, 80.7, 92.7, 90.3, 76.7, 86.0, 85.3, 89.3, 89.3, 92.3]\n",
            "sorted:\n",
            " [76.7, 80.7, 85.3, 86.0, 89.3, 89.3, 90.3, 92.3, 92.7, 94.7]\n"
          ]
        }
      ],
      "source": [
        "# TODO: get list of avg grades\n",
        "grades = []\n",
        "\n",
        "for obj in my_data:\n",
        "    grades.append(obj[\"avg\"])\n",
        "\n",
        "by_grade = sorted(grades)\n",
        "\n",
        "print(\"original:\\n\", grades)\n",
        "print(\"sorted:\\n\", by_grade)"
      ]
    },
    {
      "cell_type": "code",
      "execution_count": 146,
      "metadata": {},
      "outputs": [
        {
          "name": "stdout",
          "output_type": "stream",
          "text": [
            "[63, 69, 62, 64, 61, 62, 62, 60, 66, 60]\n",
            "[60, 60, 61, 62, 62, 62, 63, 64, 66, 69]\n"
          ]
        }
      ],
      "source": [
        "by_average = sorted(averages)\n",
        "print(averages)\n",
        "print(by_average)"
      ]
    },
    {
      "cell_type": "markdown",
      "metadata": {},
      "source": [
        "### But now we don't have the other associated information with each grade.\n",
        "\n",
        "We want to sort the list while keeping the objects together.\n",
        "\n",
        "Would be nice to be able to do something like this, just like with a `list`:"
      ]
    },
    {
      "cell_type": "code",
      "execution_count": 134,
      "metadata": {},
      "outputs": [
        {
          "ename": "TypeError",
          "evalue": "'<' not supported between instances of 'dict' and 'dict'",
          "output_type": "error",
          "traceback": [
            "\u001b[0;31m---------------------------------------------------------------------------\u001b[0m",
            "\u001b[0;31mTypeError\u001b[0m                                 Traceback (most recent call last)",
            "Cell \u001b[0;32mIn[134], line 1\u001b[0m\n\u001b[0;32m----> 1\u001b[0m by_grade \u001b[38;5;241m=\u001b[39m \u001b[38;5;28;43msorted\u001b[39;49m\u001b[43m(\u001b[49m\u001b[43mmy_data\u001b[49m\u001b[43m)\u001b[49m\n\u001b[1;32m      2\u001b[0m \u001b[38;5;28mprint\u001b[39m(by_grade)\n",
            "\u001b[0;31mTypeError\u001b[0m: '<' not supported between instances of 'dict' and 'dict'"
          ]
        }
      ],
      "source": [
        "by_grade = sorted(my_data)\n",
        "print(by_grade)"
      ]
    },
    {
      "cell_type": "markdown",
      "metadata": {},
      "source": [
        "### Sorting Objects\n",
        "\n",
        "For lists of objects we have to tell python which values to compare to determine their order.\n",
        "\n",
        "We do this by defining a key function.\n",
        "\n",
        "Key functions receive one argument, that can be an object, a list, a class member, anything... and they return one numerical value.\n",
        "\n",
        "<img src=\"./imgs/list-of-objects.jpg\" width=\"620px\" />"
      ]
    },
    {
      "cell_type": "code",
      "execution_count": 147,
      "metadata": {},
      "outputs": [
        {
          "data": {
            "text/plain": [
              "[{'height': 61, 'zip': 11240, 'grades': [88, 71, 71], 'avg': 76.7},\n",
              " {'height': 69, 'zip': 11235, 'grades': [80, 82, 80], 'avg': 80.7},\n",
              " {'height': 62, 'zip': 11234, 'grades': [96, 70, 90], 'avg': 85.3},\n",
              " {'height': 62, 'zip': 11209, 'grades': [87, 94, 77], 'avg': 86.0},\n",
              " {'height': 60, 'zip': 11241, 'grades': [87, 84, 97], 'avg': 89.3},\n",
              " {'height': 66, 'zip': 11227, 'grades': [89, 83, 96], 'avg': 89.3},\n",
              " {'height': 64, 'zip': 11215, 'grades': [97, 97, 77], 'avg': 90.3},\n",
              " {'height': 60, 'zip': 11232, 'grades': [100, 84, 93], 'avg': 92.3},\n",
              " {'height': 62, 'zip': 11206, 'grades': [98, 83, 97], 'avg': 92.7},\n",
              " {'height': 63, 'zip': 11234, 'grades': [100, 90, 94], 'avg': 94.7}]"
            ]
          },
          "execution_count": 147,
          "metadata": {},
          "output_type": "execute_result"
        }
      ],
      "source": [
        "# this key function receives a student-info object with {height, grade, zip, etc}\n",
        "# and should return just the average grade value\n",
        "def gradeKey(person):\n",
        "  return person[\"avg\"]\n",
        "\n",
        "# then we can just use it when we call sorted()\n",
        "by_grade = sorted(my_data, key=gradeKey)\n",
        "\n",
        "by_grade"
      ]
    },
    {
      "cell_type": "code",
      "execution_count": 136,
      "metadata": {},
      "outputs": [
        {
          "data": {
            "text/plain": [
              "[{'height': 69, 'zip': 11235, 'grades': [80, 82, 80], 'avg': 80.7},\n",
              " {'height': 62, 'zip': 11209, 'grades': [87, 94, 77], 'avg': 86.0},\n",
              " {'height': 60, 'zip': 11241, 'grades': [87, 84, 97], 'avg': 89.3},\n",
              " {'height': 61, 'zip': 11240, 'grades': [88, 71, 71], 'avg': 76.7},\n",
              " {'height': 66, 'zip': 11227, 'grades': [89, 83, 96], 'avg': 89.3},\n",
              " {'height': 62, 'zip': 11234, 'grades': [96, 70, 90], 'avg': 85.3},\n",
              " {'height': 64, 'zip': 11215, 'grades': [97, 97, 77], 'avg': 90.3},\n",
              " {'height': 62, 'zip': 11206, 'grades': [98, 83, 97], 'avg': 92.7},\n",
              " {'height': 63, 'zip': 11234, 'grades': [100, 90, 94], 'avg': 94.7},\n",
              " {'height': 60, 'zip': 11232, 'grades': [100, 84, 93], 'avg': 92.3}]"
            ]
          },
          "execution_count": 136,
          "metadata": {},
          "output_type": "execute_result"
        }
      ],
      "source": [
        "# TODO: sort by first assignment grade\n",
        "def hw01Key(A):\n",
        "  return A[\"grades\"][0]\n",
        "\n",
        "by_hw01 = sorted(my_data, key=hw01Key)\n",
        "\n",
        "by_hw01"
      ]
    },
    {
      "cell_type": "markdown",
      "metadata": {},
      "source": [
        "### `min()`/`max()` functions also work with a `key` argument:"
      ]
    },
    {
      "cell_type": "code",
      "execution_count": 137,
      "metadata": {},
      "outputs": [
        {
          "name": "stdout",
          "output_type": "stream",
          "text": [
            "{'height': 63, 'zip': 11234, 'grades': [100, 90, 94], 'avg': 94.7}\n",
            "{'height': 69, 'zip': 11235, 'grades': [80, 82, 80], 'avg': 80.7}\n"
          ]
        }
      ],
      "source": [
        "# student with highest average grade\n",
        "max_by_grade = max(my_data, key=gradeKey)\n",
        "\n",
        "# student with lowest score on first assignment\n",
        "min_by_hw01 = min(my_data, key=hw01Key)\n",
        "\n",
        "print(max_by_grade)\n",
        "print(min_by_hw01)"
      ]
    },
    {
      "cell_type": "markdown",
      "metadata": {},
      "source": [
        "## Bigger Lists"
      ]
    },
    {
      "cell_type": "markdown",
      "metadata": {},
      "source": [
        "## Setup\n",
        "\n",
        "Include some helper functions and libraries"
      ]
    },
    {
      "cell_type": "code",
      "execution_count": 148,
      "metadata": {},
      "outputs": [],
      "source": [
        "!wget -q https://github.com/DM-GY-9103-2024F-H/9103-utils/raw/main/src/data_utils.py"
      ]
    },
    {
      "cell_type": "code",
      "execution_count": 149,
      "metadata": {},
      "outputs": [
        {
          "ename": "ModuleNotFoundError",
          "evalue": "No module named 'pandas'",
          "output_type": "error",
          "traceback": [
            "\u001b[0;31m---------------------------------------------------------------------------\u001b[0m",
            "\u001b[0;31mModuleNotFoundError\u001b[0m                       Traceback (most recent call last)",
            "Cell \u001b[0;32mIn[149], line 3\u001b[0m\n\u001b[1;32m      1\u001b[0m \u001b[38;5;28;01mimport\u001b[39;00m \u001b[38;5;21;01mmatplotlib\u001b[39;00m\u001b[38;5;21;01m.\u001b[39;00m\u001b[38;5;21;01mpyplot\u001b[39;00m \u001b[38;5;28;01mas\u001b[39;00m \u001b[38;5;21;01mplt\u001b[39;00m\n\u001b[0;32m----> 3\u001b[0m \u001b[38;5;28;01mfrom\u001b[39;00m \u001b[38;5;21;01mdata_utils\u001b[39;00m \u001b[38;5;28;01mimport\u001b[39;00m object_from_json_url\n",
            "File \u001b[0;32m/workspaces/WK02/data_utils.py:3\u001b[0m\n\u001b[1;32m      1\u001b[0m \u001b[38;5;28;01mimport\u001b[39;00m \u001b[38;5;21;01mjson\u001b[39;00m\n\u001b[1;32m      2\u001b[0m \u001b[38;5;28;01mimport\u001b[39;00m \u001b[38;5;21;01mnumpy\u001b[39;00m \u001b[38;5;28;01mas\u001b[39;00m \u001b[38;5;21;01mnp\u001b[39;00m\n\u001b[0;32m----> 3\u001b[0m \u001b[38;5;28;01mimport\u001b[39;00m \u001b[38;5;21;01mpandas\u001b[39;00m \u001b[38;5;28;01mas\u001b[39;00m \u001b[38;5;21;01mpd\u001b[39;00m\n\u001b[1;32m      4\u001b[0m \u001b[38;5;28;01mimport\u001b[39;00m \u001b[38;5;21;01murllib\u001b[39;00m\u001b[38;5;21;01m.\u001b[39;00m\u001b[38;5;21;01mrequest\u001b[39;00m \u001b[38;5;28;01mas\u001b[39;00m \u001b[38;5;21;01mrequest\u001b[39;00m\n\u001b[1;32m      6\u001b[0m \u001b[38;5;28;01mfrom\u001b[39;00m \u001b[38;5;21;01mnumpy\u001b[39;00m\u001b[38;5;21;01m.\u001b[39;00m\u001b[38;5;21;01mlinalg\u001b[39;00m \u001b[38;5;28;01mimport\u001b[39;00m det \u001b[38;5;28;01mas\u001b[39;00m np_det, inv \u001b[38;5;28;01mas\u001b[39;00m np_inv\n",
            "\u001b[0;31mModuleNotFoundError\u001b[0m: No module named 'pandas'"
          ]
        }
      ],
      "source": [
        "import matplotlib.pyplot as plt\n",
        "\n",
        "from data_utils import object_from_json_url"
      ]
    },
    {
      "cell_type": "markdown",
      "metadata": {},
      "source": [
        "### Load ANSUR 2 Databse\n",
        "\n",
        "The `JSON` file has a subset of the measurements found [here](https://www.openlab.psu.edu/ansur2/)."
      ]
    },
    {
      "cell_type": "code",
      "execution_count": null,
      "metadata": {},
      "outputs": [],
      "source": [
        "ANSUR_JSON_URL = \"https://raw.githubusercontent.com/DM-GY-9103-2024F-H/9103-utils/main/datasets/json/ansur.json\"\n",
        "ansur = object_from_json_url(ANSUR_JSON_URL)\n",
        "\n",
        "# TODO: look at the data\n",
        "\n",
        "# Answer:\n",
        "#   - how many rows/records/items ?\n",
        "#   - tallest height ?\n",
        "#   - longest ear ?\n",
        "#   - average ear length ?\n"
      ]
    },
    {
      "cell_type": "code",
      "execution_count": null,
      "metadata": {},
      "outputs": [],
      "source": [
        "print(len(ansur))\n",
        "ansur[:3]"
      ]
    },
    {
      "cell_type": "markdown",
      "metadata": {},
      "source": [
        "### Let's look at a simpler versions:"
      ]
    },
    {
      "cell_type": "code",
      "execution_count": null,
      "metadata": {},
      "outputs": [],
      "source": [
        "AHW_JSON_URL = \"https://raw.githubusercontent.com/DM-GY-9103-2024F-H/9103-utils/main/datasets/json/ansur_age_height_weight_object.json\"\n",
        "ahw_objs = object_from_json_url(AHW_JSON_URL)\n",
        "\n",
        "# TODO: look at data\n",
        "# How is it organized ?"
      ]
    },
    {
      "cell_type": "code",
      "execution_count": null,
      "metadata": {},
      "outputs": [],
      "source": [
        "AHW_LIST_URL = \"https://raw.githubusercontent.com/DM-GY-9103-2024F-H/9103-utils/main/datasets/json/ansur_age_height_weight.json\"\n",
        "ahws = object_from_json_url(AHW_LIST_URL)\n",
        "\n",
        "# TODO: look at data\n",
        "# How is it organized ?\n",
        "\n",
        "# Answer the following:\n",
        "#   - how many items ?\n",
        "#   - how do we access the height of a person ?"
      ]
    },
    {
      "cell_type": "markdown",
      "metadata": {},
      "source": [
        "## List of Lists\n",
        "\n",
        "Just like we can put lists inside objects, and objects inside lists, we can also put lists inside lists.\n",
        "\n",
        "If we want to get to a particular value we have to use $2$ indices instead of using just one:\n",
        "`list[i][j]`\n",
        "\n",
        "The first index tells Python which of the sub-lists we want, and the second specifies the item on that list.\n",
        "\n",
        "<img src=\"./imgs/list-of-lists00.jpg\" width=\"700px\" />\n",
        "\n",
        "<img src=\"./imgs/list-of-lists01.jpg\" width=\"700px\" />\n",
        "\n",
        "Sometimes we'll refer to the first index as the row index and the second index as the column index.\n",
        "\n",
        "That's because if we imagine our list of lists as a 2-dimensional matrix of numbers, the first index tells Python which row we want to access and the second tells which column:\n",
        "\n",
        "<img src=\"./imgs/list-of-lists02.jpg\" width=\"700px\" />\n",
        "\n",
        "<img src=\"./imgs/list-of-lists03.jpg\" width=\"700px\" />"
      ]
    },
    {
      "cell_type": "markdown",
      "metadata": {},
      "source": [
        "### Datasets\n",
        "\n",
        "We'll see this kind of structure a lot.\n",
        "\n",
        "It's very common for datasets to be organized by rows/columns, where each column specifies a different *property* (or *feature*) and each row is a different *measurement* (or *record*) of those features.\n",
        "\n",
        "In our example above, our dataset had $3$ *features* (age, height, weight), and one *record* per person.\n",
        "\n",
        "<img src=\"./imgs/datasets00.jpg\" width=\"700px\" />"
      ]
    },
    {
      "cell_type": "markdown",
      "metadata": {},
      "source": [
        "### JSON\n",
        "\n",
        "It's also common to find datasets specified in the JSON format.\n",
        "\n",
        "Instead of just being a list of lists with values, each *record* is an object that specifies the names and values of its *features*:\n",
        "\n",
        "<img src=\"./imgs/datasets01.jpg\" width=\"700px\" />\n",
        "\n",
        "There are advantages and disadvantages to each. We'll soon look at another way to organize datasets that will make it easier to go from one type to the other if we have to."
      ]
    },
    {
      "cell_type": "markdown",
      "metadata": {},
      "source": [
        "## Plots\n",
        "\n",
        "We can use the [matplot](https://matplotlib.org/stable/api/pyplot_summary.html) library to visualize our data."
      ]
    },
    {
      "cell_type": "code",
      "execution_count": null,
      "metadata": {},
      "outputs": [],
      "source": [
        "# TODO: get heights\n",
        "heights = []\n",
        "\n",
        "plt.plot(heights, 'bo', markersize=2)\n",
        "plt.show()"
      ]
    },
    {
      "cell_type": "code",
      "execution_count": null,
      "metadata": {},
      "outputs": [],
      "source": [
        "# TODO: get weights\n",
        "weights = []\n",
        "\n",
        "plt.plot(weights, 'ro', markersize=2)\n",
        "plt.show()"
      ]
    },
    {
      "cell_type": "code",
      "execution_count": null,
      "metadata": {},
      "outputs": [],
      "source": [
        "# TODO: plot ages in green\n",
        "ages = []"
      ]
    },
    {
      "cell_type": "markdown",
      "metadata": {},
      "source": [
        "### Sorting data can give a different perspective"
      ]
    },
    {
      "cell_type": "code",
      "execution_count": null,
      "metadata": {},
      "outputs": [],
      "source": [
        "sorted_heights = sorted(heights)\n",
        "plt.plot(sorted_heights, 'bo', markersize=2)\n",
        "plt.show()"
      ]
    },
    {
      "cell_type": "markdown",
      "metadata": {},
      "source": [
        "### Histograms"
      ]
    },
    {
      "cell_type": "code",
      "execution_count": null,
      "metadata": {},
      "outputs": [],
      "source": [
        "min_height = min(heights)\n",
        "max_height = max(heights)\n",
        "plt.hist(heights, bins=range(min_height, max_height + 1))\n",
        "plt.grid()\n",
        "plt.show()"
      ]
    },
    {
      "cell_type": "markdown",
      "metadata": {},
      "source": [
        "## Correlation\n",
        "\n",
        "Measurement of how $2$ independent variables (features) are related to each other.\n",
        "\n",
        "<img src=\"./imgs/correlation.jpg\" width=\"800px\" />\n",
        "\n",
        "They can have *positive* or *direct* correlation, if an increase in one of the variables comes with an increase in the other.\n",
        "\n",
        "They can have *negative* or *inverse* correlation if an increase in one of the variables is accompanied by a decrease in the other.\n",
        "\n",
        "Or, there can be *weak* or *NO* correlation, if a change in one variable doesn't seem to be accompanied by a change in the other."
      ]
    },
    {
      "cell_type": "code",
      "execution_count": null,
      "metadata": {},
      "outputs": [],
      "source": [
        "# use \"column\" lists from above to plot scatter plot\n",
        "plt.scatter(ages, heights, marker='o', alpha=0.2)\n",
        "plt.xlabel(\"age\")\n",
        "plt.ylabel(\"height\")\n",
        "plt.show()"
      ]
    },
    {
      "cell_type": "code",
      "execution_count": null,
      "metadata": {},
      "outputs": [],
      "source": [
        "# TODO plot other combinations of variables\n",
        "# TODO: any correlation ?"
      ]
    }
  ],
  "metadata": {
    "colab": {
      "authorship_tag": "ABX9TyMhuytAcbldogywX05phpmj",
      "provenance": []
    },
    "kernelspec": {
      "display_name": "Python 3",
      "name": "python3"
    },
    "language_info": {
      "codemirror_mode": {
        "name": "ipython",
        "version": 3
      },
      "file_extension": ".py",
      "mimetype": "text/x-python",
      "name": "python",
      "nbconvert_exporter": "python",
      "pygments_lexer": "ipython3",
      "version": "3.10.14"
    }
  },
  "nbformat": 4,
  "nbformat_minor": 0
}
